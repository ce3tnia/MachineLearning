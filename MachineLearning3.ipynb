{
  "nbformat": 4,
  "nbformat_minor": 0,
  "metadata": {
    "colab": {
      "name": "MachineLearning3",
      "provenance": [],
      "collapsed_sections": [
        "kKGs6W4uKwW6",
        "UQhmeQagKYr5"
      ],
      "authorship_tag": "ABX9TyOdj5xBhZJkP+UZ4ZV5XdOm",
      "include_colab_link": true
    },
    "kernelspec": {
      "name": "python3",
      "display_name": "Python 3"
    }
  },
  "cells": [
    {
      "cell_type": "markdown",
      "metadata": {
        "id": "view-in-github",
        "colab_type": "text"
      },
      "source": [
        "<a href=\"https://colab.research.google.com/github/ce3tnia/MachineLearning/blob/master/MachineLearning3.ipynb\" target=\"_parent\"><img src=\"https://colab.research.google.com/assets/colab-badge.svg\" alt=\"Open In Colab\"/></a>"
      ]
    },
    {
      "cell_type": "code",
      "metadata": {
        "id": "lxdN_YHy8aHL",
        "colab_type": "code",
        "colab": {
          "base_uri": "https://localhost:8080/",
          "height": 70
        },
        "outputId": "e9521f2f-3c4c-407e-e2c6-d2457041e1b8"
      },
      "source": [
        "import pandas as pd\n",
        "import matplotlib.pyplot as plt\n",
        "import seaborn as sns\n",
        "\n",
        "# Import data\n",
        "from google.colab import drive\n",
        "drive.mount(\"/content/drive\")"
      ],
      "execution_count": null,
      "outputs": [
        {
          "output_type": "stream",
          "text": [
            "Drive already mounted at /content/drive; to attempt to forcibly remount, call drive.mount(\"/content/drive\", force_remount=True).\n"
          ],
          "name": "stdout"
        },
        {
          "output_type": "stream",
          "text": [
            "/usr/local/lib/python3.6/dist-packages/statsmodels/tools/_testing.py:19: FutureWarning: pandas.util.testing is deprecated. Use the functions in the public API at pandas.testing instead.\n",
            "  import pandas.util.testing as tm\n"
          ],
          "name": "stderr"
        }
      ]
    },
    {
      "cell_type": "code",
      "metadata": {
        "id": "kb_32Xy6I_Nt",
        "colab_type": "code",
        "colab": {}
      },
      "source": [
        "path = \"/content/drive/My Drive/MachineLearning/Iris.csv\"\n",
        "df = pd.read_csv(path)"
      ],
      "execution_count": null,
      "outputs": []
    },
    {
      "cell_type": "code",
      "metadata": {
        "id": "6378XMqxJKa1",
        "colab_type": "code",
        "colab": {
          "base_uri": "https://localhost:8080/",
          "height": 399
        },
        "outputId": "6609d2fe-376d-4941-fcc6-b72cfe5c9cad"
      },
      "source": [
        "#  Tampilkan 5 data pertama\n",
        "df.tail(100)"
      ],
      "execution_count": null,
      "outputs": [
        {
          "output_type": "execute_result",
          "data": {
            "text/html": [
              "<div>\n",
              "<style scoped>\n",
              "    .dataframe tbody tr th:only-of-type {\n",
              "        vertical-align: middle;\n",
              "    }\n",
              "\n",
              "    .dataframe tbody tr th {\n",
              "        vertical-align: top;\n",
              "    }\n",
              "\n",
              "    .dataframe thead th {\n",
              "        text-align: right;\n",
              "    }\n",
              "</style>\n",
              "<table border=\"1\" class=\"dataframe\">\n",
              "  <thead>\n",
              "    <tr style=\"text-align: right;\">\n",
              "      <th></th>\n",
              "      <th>Id</th>\n",
              "      <th>SepalLengthCm</th>\n",
              "      <th>SepalWidthCm</th>\n",
              "      <th>PetalLengthCm</th>\n",
              "      <th>PetalWidthCm</th>\n",
              "      <th>Species</th>\n",
              "    </tr>\n",
              "  </thead>\n",
              "  <tbody>\n",
              "    <tr>\n",
              "      <th>50</th>\n",
              "      <td>51</td>\n",
              "      <td>7.0</td>\n",
              "      <td>3.2</td>\n",
              "      <td>4.7</td>\n",
              "      <td>1.4</td>\n",
              "      <td>Iris-versicolor</td>\n",
              "    </tr>\n",
              "    <tr>\n",
              "      <th>51</th>\n",
              "      <td>52</td>\n",
              "      <td>6.4</td>\n",
              "      <td>3.2</td>\n",
              "      <td>4.5</td>\n",
              "      <td>1.5</td>\n",
              "      <td>Iris-versicolor</td>\n",
              "    </tr>\n",
              "    <tr>\n",
              "      <th>52</th>\n",
              "      <td>53</td>\n",
              "      <td>6.9</td>\n",
              "      <td>3.1</td>\n",
              "      <td>4.9</td>\n",
              "      <td>1.5</td>\n",
              "      <td>Iris-versicolor</td>\n",
              "    </tr>\n",
              "    <tr>\n",
              "      <th>53</th>\n",
              "      <td>54</td>\n",
              "      <td>5.5</td>\n",
              "      <td>2.3</td>\n",
              "      <td>4.0</td>\n",
              "      <td>1.3</td>\n",
              "      <td>Iris-versicolor</td>\n",
              "    </tr>\n",
              "    <tr>\n",
              "      <th>54</th>\n",
              "      <td>55</td>\n",
              "      <td>6.5</td>\n",
              "      <td>2.8</td>\n",
              "      <td>4.6</td>\n",
              "      <td>1.5</td>\n",
              "      <td>Iris-versicolor</td>\n",
              "    </tr>\n",
              "    <tr>\n",
              "      <th>...</th>\n",
              "      <td>...</td>\n",
              "      <td>...</td>\n",
              "      <td>...</td>\n",
              "      <td>...</td>\n",
              "      <td>...</td>\n",
              "      <td>...</td>\n",
              "    </tr>\n",
              "    <tr>\n",
              "      <th>145</th>\n",
              "      <td>146</td>\n",
              "      <td>6.7</td>\n",
              "      <td>3.0</td>\n",
              "      <td>5.2</td>\n",
              "      <td>2.3</td>\n",
              "      <td>Iris-virginica</td>\n",
              "    </tr>\n",
              "    <tr>\n",
              "      <th>146</th>\n",
              "      <td>147</td>\n",
              "      <td>6.3</td>\n",
              "      <td>2.5</td>\n",
              "      <td>5.0</td>\n",
              "      <td>1.9</td>\n",
              "      <td>Iris-virginica</td>\n",
              "    </tr>\n",
              "    <tr>\n",
              "      <th>147</th>\n",
              "      <td>148</td>\n",
              "      <td>6.5</td>\n",
              "      <td>3.0</td>\n",
              "      <td>5.2</td>\n",
              "      <td>2.0</td>\n",
              "      <td>Iris-virginica</td>\n",
              "    </tr>\n",
              "    <tr>\n",
              "      <th>148</th>\n",
              "      <td>149</td>\n",
              "      <td>6.2</td>\n",
              "      <td>3.4</td>\n",
              "      <td>5.4</td>\n",
              "      <td>2.3</td>\n",
              "      <td>Iris-virginica</td>\n",
              "    </tr>\n",
              "    <tr>\n",
              "      <th>149</th>\n",
              "      <td>150</td>\n",
              "      <td>5.9</td>\n",
              "      <td>3.0</td>\n",
              "      <td>5.1</td>\n",
              "      <td>1.8</td>\n",
              "      <td>Iris-virginica</td>\n",
              "    </tr>\n",
              "  </tbody>\n",
              "</table>\n",
              "<p>100 rows × 6 columns</p>\n",
              "</div>"
            ],
            "text/plain": [
              "      Id  SepalLengthCm  ...  PetalWidthCm          Species\n",
              "50    51            7.0  ...           1.4  Iris-versicolor\n",
              "51    52            6.4  ...           1.5  Iris-versicolor\n",
              "52    53            6.9  ...           1.5  Iris-versicolor\n",
              "53    54            5.5  ...           1.3  Iris-versicolor\n",
              "54    55            6.5  ...           1.5  Iris-versicolor\n",
              "..   ...            ...  ...           ...              ...\n",
              "145  146            6.7  ...           2.3   Iris-virginica\n",
              "146  147            6.3  ...           1.9   Iris-virginica\n",
              "147  148            6.5  ...           2.0   Iris-virginica\n",
              "148  149            6.2  ...           2.3   Iris-virginica\n",
              "149  150            5.9  ...           1.8   Iris-virginica\n",
              "\n",
              "[100 rows x 6 columns]"
            ]
          },
          "metadata": {
            "tags": []
          },
          "execution_count": 3
        }
      ]
    },
    {
      "cell_type": "code",
      "metadata": {
        "id": "fn01YOPhJRVp",
        "colab_type": "code",
        "colab": {
          "base_uri": "https://localhost:8080/",
          "height": 194
        },
        "outputId": "ba3b6e31-d0c1-4a34-c06c-47a7ee4d8f03"
      },
      "source": [
        "# hapus atribut yang tidak digunakan\n",
        "df.drop(['Species','Id'], axis=1, inplace=True)\n",
        "\n",
        "# tampilkan 5 data pertama\n",
        "df.head()"
      ],
      "execution_count": null,
      "outputs": [
        {
          "output_type": "execute_result",
          "data": {
            "text/html": [
              "<div>\n",
              "<style scoped>\n",
              "    .dataframe tbody tr th:only-of-type {\n",
              "        vertical-align: middle;\n",
              "    }\n",
              "\n",
              "    .dataframe tbody tr th {\n",
              "        vertical-align: top;\n",
              "    }\n",
              "\n",
              "    .dataframe thead th {\n",
              "        text-align: right;\n",
              "    }\n",
              "</style>\n",
              "<table border=\"1\" class=\"dataframe\">\n",
              "  <thead>\n",
              "    <tr style=\"text-align: right;\">\n",
              "      <th></th>\n",
              "      <th>SepalLengthCm</th>\n",
              "      <th>SepalWidthCm</th>\n",
              "      <th>PetalLengthCm</th>\n",
              "      <th>PetalWidthCm</th>\n",
              "    </tr>\n",
              "  </thead>\n",
              "  <tbody>\n",
              "    <tr>\n",
              "      <th>0</th>\n",
              "      <td>5.1</td>\n",
              "      <td>3.5</td>\n",
              "      <td>1.4</td>\n",
              "      <td>0.2</td>\n",
              "    </tr>\n",
              "    <tr>\n",
              "      <th>1</th>\n",
              "      <td>4.9</td>\n",
              "      <td>3.0</td>\n",
              "      <td>1.4</td>\n",
              "      <td>0.2</td>\n",
              "    </tr>\n",
              "    <tr>\n",
              "      <th>2</th>\n",
              "      <td>4.7</td>\n",
              "      <td>3.2</td>\n",
              "      <td>1.3</td>\n",
              "      <td>0.2</td>\n",
              "    </tr>\n",
              "    <tr>\n",
              "      <th>3</th>\n",
              "      <td>4.6</td>\n",
              "      <td>3.1</td>\n",
              "      <td>1.5</td>\n",
              "      <td>0.2</td>\n",
              "    </tr>\n",
              "    <tr>\n",
              "      <th>4</th>\n",
              "      <td>5.0</td>\n",
              "      <td>3.6</td>\n",
              "      <td>1.4</td>\n",
              "      <td>0.2</td>\n",
              "    </tr>\n",
              "  </tbody>\n",
              "</table>\n",
              "</div>"
            ],
            "text/plain": [
              "   SepalLengthCm  SepalWidthCm  PetalLengthCm  PetalWidthCm\n",
              "0            5.1           3.5            1.4           0.2\n",
              "1            4.9           3.0            1.4           0.2\n",
              "2            4.7           3.2            1.3           0.2\n",
              "3            4.6           3.1            1.5           0.2\n",
              "4            5.0           3.6            1.4           0.2"
            ]
          },
          "metadata": {
            "tags": []
          },
          "execution_count": 4
        }
      ]
    },
    {
      "cell_type": "code",
      "metadata": {
        "id": "oA3OJJEdJVWB",
        "colab_type": "code",
        "colab": {
          "base_uri": "https://localhost:8080/",
          "height": 35
        },
        "outputId": "f6284353-28da-46e5-b177-42daa8d86d23"
      },
      "source": [
        "from sklearn.preprocessing import StandardScaler\n",
        "\n",
        "df_scale = df[['SepalLengthCm', 'SepalWidthCm', 'PetalLengthCm', 'PetalWidthCm']]\n",
        "\n",
        "# instantiating the scaler\n",
        "scaler = StandardScaler()\n",
        "\n",
        "# fit and transform\n",
        "df_scale = scaler.fit_transform(df_scale)\n",
        "df_scale.shape"
      ],
      "execution_count": null,
      "outputs": [
        {
          "output_type": "execute_result",
          "data": {
            "text/plain": [
              "(150, 4)"
            ]
          },
          "metadata": {
            "tags": []
          },
          "execution_count": 5
        }
      ]
    },
    {
      "cell_type": "code",
      "metadata": {
        "id": "kQoMNgruJXs9",
        "colab_type": "code",
        "colab": {
          "base_uri": "https://localhost:8080/",
          "height": 106
        },
        "outputId": "3d13ecef-51d1-42d5-b425-753d596e5738"
      },
      "source": [
        "\n",
        "df_scale[:5]"
      ],
      "execution_count": null,
      "outputs": [
        {
          "output_type": "execute_result",
          "data": {
            "text/plain": [
              "array([[-0.90068117,  1.03205722, -1.3412724 , -1.31297673],\n",
              "       [-1.14301691, -0.1249576 , -1.3412724 , -1.31297673],\n",
              "       [-1.38535265,  0.33784833, -1.39813811, -1.31297673],\n",
              "       [-1.50652052,  0.10644536, -1.2844067 , -1.31297673],\n",
              "       [-1.02184904,  1.26346019, -1.3412724 , -1.31297673]])"
            ]
          },
          "metadata": {
            "tags": []
          },
          "execution_count": 6
        }
      ]
    },
    {
      "cell_type": "code",
      "metadata": {
        "id": "LqsD7jEaJbGr",
        "colab_type": "code",
        "colab": {
          "base_uri": "https://localhost:8080/",
          "height": 194
        },
        "outputId": "4df28813-b821-4ad2-90a8-5c218e417fbf"
      },
      "source": [
        "data = pd.DataFrame(df_scale)\n",
        "data.columns = ['SepalLengthCm', 'SepalWidthCm', 'PetalLengthCm', 'PetalWidthCm']\n",
        "\n",
        "data_cluster = data.copy()\n",
        "data.head()"
      ],
      "execution_count": null,
      "outputs": [
        {
          "output_type": "execute_result",
          "data": {
            "text/html": [
              "<div>\n",
              "<style scoped>\n",
              "    .dataframe tbody tr th:only-of-type {\n",
              "        vertical-align: middle;\n",
              "    }\n",
              "\n",
              "    .dataframe tbody tr th {\n",
              "        vertical-align: top;\n",
              "    }\n",
              "\n",
              "    .dataframe thead th {\n",
              "        text-align: right;\n",
              "    }\n",
              "</style>\n",
              "<table border=\"1\" class=\"dataframe\">\n",
              "  <thead>\n",
              "    <tr style=\"text-align: right;\">\n",
              "      <th></th>\n",
              "      <th>SepalLengthCm</th>\n",
              "      <th>SepalWidthCm</th>\n",
              "      <th>PetalLengthCm</th>\n",
              "      <th>PetalWidthCm</th>\n",
              "    </tr>\n",
              "  </thead>\n",
              "  <tbody>\n",
              "    <tr>\n",
              "      <th>0</th>\n",
              "      <td>-0.900681</td>\n",
              "      <td>1.032057</td>\n",
              "      <td>-1.341272</td>\n",
              "      <td>-1.312977</td>\n",
              "    </tr>\n",
              "    <tr>\n",
              "      <th>1</th>\n",
              "      <td>-1.143017</td>\n",
              "      <td>-0.124958</td>\n",
              "      <td>-1.341272</td>\n",
              "      <td>-1.312977</td>\n",
              "    </tr>\n",
              "    <tr>\n",
              "      <th>2</th>\n",
              "      <td>-1.385353</td>\n",
              "      <td>0.337848</td>\n",
              "      <td>-1.398138</td>\n",
              "      <td>-1.312977</td>\n",
              "    </tr>\n",
              "    <tr>\n",
              "      <th>3</th>\n",
              "      <td>-1.506521</td>\n",
              "      <td>0.106445</td>\n",
              "      <td>-1.284407</td>\n",
              "      <td>-1.312977</td>\n",
              "    </tr>\n",
              "    <tr>\n",
              "      <th>4</th>\n",
              "      <td>-1.021849</td>\n",
              "      <td>1.263460</td>\n",
              "      <td>-1.341272</td>\n",
              "      <td>-1.312977</td>\n",
              "    </tr>\n",
              "  </tbody>\n",
              "</table>\n",
              "</div>"
            ],
            "text/plain": [
              "   SepalLengthCm  SepalWidthCm  PetalLengthCm  PetalWidthCm\n",
              "0      -0.900681      1.032057      -1.341272     -1.312977\n",
              "1      -1.143017     -0.124958      -1.341272     -1.312977\n",
              "2      -1.385353      0.337848      -1.398138     -1.312977\n",
              "3      -1.506521      0.106445      -1.284407     -1.312977\n",
              "4      -1.021849      1.263460      -1.341272     -1.312977"
            ]
          },
          "metadata": {
            "tags": []
          },
          "execution_count": 7
        }
      ]
    },
    {
      "cell_type": "code",
      "metadata": {
        "id": "Wx8TvYRxJgQH",
        "colab_type": "code",
        "colab": {
          "base_uri": "https://localhost:8080/",
          "height": 282
        },
        "outputId": "c3d8ee2e-2110-4db2-90fe-42530682e4bb"
      },
      "source": [
        "data.describe()"
      ],
      "execution_count": null,
      "outputs": [
        {
          "output_type": "execute_result",
          "data": {
            "text/html": [
              "<div>\n",
              "<style scoped>\n",
              "    .dataframe tbody tr th:only-of-type {\n",
              "        vertical-align: middle;\n",
              "    }\n",
              "\n",
              "    .dataframe tbody tr th {\n",
              "        vertical-align: top;\n",
              "    }\n",
              "\n",
              "    .dataframe thead th {\n",
              "        text-align: right;\n",
              "    }\n",
              "</style>\n",
              "<table border=\"1\" class=\"dataframe\">\n",
              "  <thead>\n",
              "    <tr style=\"text-align: right;\">\n",
              "      <th></th>\n",
              "      <th>SepalLengthCm</th>\n",
              "      <th>SepalWidthCm</th>\n",
              "      <th>PetalLengthCm</th>\n",
              "      <th>PetalWidthCm</th>\n",
              "    </tr>\n",
              "  </thead>\n",
              "  <tbody>\n",
              "    <tr>\n",
              "      <th>count</th>\n",
              "      <td>1.500000e+02</td>\n",
              "      <td>1.500000e+02</td>\n",
              "      <td>1.500000e+02</td>\n",
              "      <td>1.500000e+02</td>\n",
              "    </tr>\n",
              "    <tr>\n",
              "      <th>mean</th>\n",
              "      <td>-2.775558e-16</td>\n",
              "      <td>-5.140333e-16</td>\n",
              "      <td>1.154632e-16</td>\n",
              "      <td>9.251859e-16</td>\n",
              "    </tr>\n",
              "    <tr>\n",
              "      <th>std</th>\n",
              "      <td>1.003350e+00</td>\n",
              "      <td>1.003350e+00</td>\n",
              "      <td>1.003350e+00</td>\n",
              "      <td>1.003350e+00</td>\n",
              "    </tr>\n",
              "    <tr>\n",
              "      <th>min</th>\n",
              "      <td>-1.870024e+00</td>\n",
              "      <td>-2.438987e+00</td>\n",
              "      <td>-1.568735e+00</td>\n",
              "      <td>-1.444450e+00</td>\n",
              "    </tr>\n",
              "    <tr>\n",
              "      <th>25%</th>\n",
              "      <td>-9.006812e-01</td>\n",
              "      <td>-5.877635e-01</td>\n",
              "      <td>-1.227541e+00</td>\n",
              "      <td>-1.181504e+00</td>\n",
              "    </tr>\n",
              "    <tr>\n",
              "      <th>50%</th>\n",
              "      <td>-5.250608e-02</td>\n",
              "      <td>-1.249576e-01</td>\n",
              "      <td>3.362659e-01</td>\n",
              "      <td>1.332259e-01</td>\n",
              "    </tr>\n",
              "    <tr>\n",
              "      <th>75%</th>\n",
              "      <td>6.745011e-01</td>\n",
              "      <td>5.692513e-01</td>\n",
              "      <td>7.627586e-01</td>\n",
              "      <td>7.905908e-01</td>\n",
              "    </tr>\n",
              "    <tr>\n",
              "      <th>max</th>\n",
              "      <td>2.492019e+00</td>\n",
              "      <td>3.114684e+00</td>\n",
              "      <td>1.786341e+00</td>\n",
              "      <td>1.710902e+00</td>\n",
              "    </tr>\n",
              "  </tbody>\n",
              "</table>\n",
              "</div>"
            ],
            "text/plain": [
              "       SepalLengthCm  SepalWidthCm  PetalLengthCm  PetalWidthCm\n",
              "count   1.500000e+02  1.500000e+02   1.500000e+02  1.500000e+02\n",
              "mean   -2.775558e-16 -5.140333e-16   1.154632e-16  9.251859e-16\n",
              "std     1.003350e+00  1.003350e+00   1.003350e+00  1.003350e+00\n",
              "min    -1.870024e+00 -2.438987e+00  -1.568735e+00 -1.444450e+00\n",
              "25%    -9.006812e-01 -5.877635e-01  -1.227541e+00 -1.181504e+00\n",
              "50%    -5.250608e-02 -1.249576e-01   3.362659e-01  1.332259e-01\n",
              "75%     6.745011e-01  5.692513e-01   7.627586e-01  7.905908e-01\n",
              "max     2.492019e+00  3.114684e+00   1.786341e+00  1.710902e+00"
            ]
          },
          "metadata": {
            "tags": []
          },
          "execution_count": 8
        }
      ]
    },
    {
      "cell_type": "code",
      "metadata": {
        "id": "YMkisN5wJg8t",
        "colab_type": "code",
        "colab": {}
      },
      "source": [
        "\n",
        "# data = df.copy()\n",
        "# data_cluster = df.copy()"
      ],
      "execution_count": null,
      "outputs": []
    },
    {
      "cell_type": "markdown",
      "metadata": {
        "id": "kKGs6W4uKwW6",
        "colab_type": "text"
      },
      "source": [
        "# K-**means**"
      ]
    },
    {
      "cell_type": "code",
      "metadata": {
        "id": "ez-gAPw0JjKD",
        "colab_type": "code",
        "colab": {
          "base_uri": "https://localhost:8080/",
          "height": 313
        },
        "outputId": "f3e37ef9-138d-449f-ed34-46ae9417ea21"
      },
      "source": [
        "# Menentukan jumlah K\n",
        "from sklearn.cluster import KMeans\n",
        "\n",
        "# buat list inertia\n",
        "clusters = []\n",
        "for i in range (1,11):\n",
        "    km = KMeans(n_clusters=i).fit(data)\n",
        "    clusters.append(km.inertia_)\n",
        "\n",
        "# tampilkan plot\n",
        "fig, ax = plt.subplots(figsize=(8,4))\n",
        "sns.lineplot(x=list(range(1,11)), y=clusters, ax=ax)\n",
        "ax.set_title('Elbow')\n",
        "ax.set_xlabel('Clusters')\n",
        "ax.set_ylabel('Inertia')"
      ],
      "execution_count": null,
      "outputs": [
        {
          "output_type": "execute_result",
          "data": {
            "text/plain": [
              "Text(0, 0.5, 'Inertia')"
            ]
          },
          "metadata": {
            "tags": []
          },
          "execution_count": 10
        },
        {
          "output_type": "display_data",
          "data": {
            "image/png": "[encoded data removed]",
            "text/plain": [
              "<Figure size 576x288 with 1 Axes>"
            ]
          },
          "metadata": {
            "tags": [],
            "needs_background": "light"
          }
        }
      ]
    },
    {
      "cell_type": "code",
      "metadata": {
        "id": "0K4ezkwiJoJd",
        "colab_type": "code",
        "colab": {
          "base_uri": "https://localhost:8080/",
          "height": 399
        },
        "outputId": "53c0cab0-d9d6-4f91-8c2d-b862c3028004"
      },
      "source": [
        "## Melatih model\n",
        "# Create Model\n",
        "model_kmeans3 = KMeans(n_clusters=3)\n",
        "model_kmeans4 = KMeans(n_clusters=4)\n",
        "\n",
        "# Train Model\n",
        "model_kmeans3.fit(data)\n",
        "model_kmeans4.fit(data)\n",
        "\n",
        "# Menambah Label pada data\n",
        "data_cluster['cluster_kmeans3'] = model_kmeans3.labels_\n",
        "data_cluster['cluster_kmeans4'] = model_kmeans4.labels_\n",
        "\n",
        "data_cluster"
      ],
      "execution_count": null,
      "outputs": [
        {
          "output_type": "execute_result",
          "data": {
            "text/html": [
              "<div>\n",
              "<style scoped>\n",
              "    .dataframe tbody tr th:only-of-type {\n",
              "        vertical-align: middle;\n",
              "    }\n",
              "\n",
              "    .dataframe tbody tr th {\n",
              "        vertical-align: top;\n",
              "    }\n",
              "\n",
              "    .dataframe thead th {\n",
              "        text-align: right;\n",
              "    }\n",
              "</style>\n",
              "<table border=\"1\" class=\"dataframe\">\n",
              "  <thead>\n",
              "    <tr style=\"text-align: right;\">\n",
              "      <th></th>\n",
              "      <th>SepalLengthCm</th>\n",
              "      <th>SepalWidthCm</th>\n",
              "      <th>PetalLengthCm</th>\n",
              "      <th>PetalWidthCm</th>\n",
              "      <th>cluster_kmeans3</th>\n",
              "      <th>cluster_kmeans4</th>\n",
              "    </tr>\n",
              "  </thead>\n",
              "  <tbody>\n",
              "    <tr>\n",
              "      <th>0</th>\n",
              "      <td>-0.900681</td>\n",
              "      <td>1.032057</td>\n",
              "      <td>-1.341272</td>\n",
              "      <td>-1.312977</td>\n",
              "      <td>2</td>\n",
              "      <td>1</td>\n",
              "    </tr>\n",
              "    <tr>\n",
              "      <th>1</th>\n",
              "      <td>-1.143017</td>\n",
              "      <td>-0.124958</td>\n",
              "      <td>-1.341272</td>\n",
              "      <td>-1.312977</td>\n",
              "      <td>2</td>\n",
              "      <td>3</td>\n",
              "    </tr>\n",
              "    <tr>\n",
              "      <th>2</th>\n",
              "      <td>-1.385353</td>\n",
              "      <td>0.337848</td>\n",
              "      <td>-1.398138</td>\n",
              "      <td>-1.312977</td>\n",
              "      <td>2</td>\n",
              "      <td>3</td>\n",
              "    </tr>\n",
              "    <tr>\n",
              "      <th>3</th>\n",
              "      <td>-1.506521</td>\n",
              "      <td>0.106445</td>\n",
              "      <td>-1.284407</td>\n",
              "      <td>-1.312977</td>\n",
              "      <td>2</td>\n",
              "      <td>3</td>\n",
              "    </tr>\n",
              "    <tr>\n",
              "      <th>4</th>\n",
              "      <td>-1.021849</td>\n",
              "      <td>1.263460</td>\n",
              "      <td>-1.341272</td>\n",
              "      <td>-1.312977</td>\n",
              "      <td>2</td>\n",
              "      <td>1</td>\n",
              "    </tr>\n",
              "    <tr>\n",
              "      <th>...</th>\n",
              "      <td>...</td>\n",
              "      <td>...</td>\n",
              "      <td>...</td>\n",
              "      <td>...</td>\n",
              "      <td>...</td>\n",
              "      <td>...</td>\n",
              "    </tr>\n",
              "    <tr>\n",
              "      <th>145</th>\n",
              "      <td>1.038005</td>\n",
              "      <td>-0.124958</td>\n",
              "      <td>0.819624</td>\n",
              "      <td>1.447956</td>\n",
              "      <td>1</td>\n",
              "      <td>2</td>\n",
              "    </tr>\n",
              "    <tr>\n",
              "      <th>146</th>\n",
              "      <td>0.553333</td>\n",
              "      <td>-1.281972</td>\n",
              "      <td>0.705893</td>\n",
              "      <td>0.922064</td>\n",
              "      <td>0</td>\n",
              "      <td>0</td>\n",
              "    </tr>\n",
              "    <tr>\n",
              "      <th>147</th>\n",
              "      <td>0.795669</td>\n",
              "      <td>-0.124958</td>\n",
              "      <td>0.819624</td>\n",
              "      <td>1.053537</td>\n",
              "      <td>1</td>\n",
              "      <td>2</td>\n",
              "    </tr>\n",
              "    <tr>\n",
              "      <th>148</th>\n",
              "      <td>0.432165</td>\n",
              "      <td>0.800654</td>\n",
              "      <td>0.933356</td>\n",
              "      <td>1.447956</td>\n",
              "      <td>1</td>\n",
              "      <td>2</td>\n",
              "    </tr>\n",
              "    <tr>\n",
              "      <th>149</th>\n",
              "      <td>0.068662</td>\n",
              "      <td>-0.124958</td>\n",
              "      <td>0.762759</td>\n",
              "      <td>0.790591</td>\n",
              "      <td>0</td>\n",
              "      <td>0</td>\n",
              "    </tr>\n",
              "  </tbody>\n",
              "</table>\n",
              "<p>150 rows × 6 columns</p>\n",
              "</div>"
            ],
            "text/plain": [
              "     SepalLengthCm  SepalWidthCm  ...  cluster_kmeans3  cluster_kmeans4\n",
              "0        -0.900681      1.032057  ...                2                1\n",
              "1        -1.143017     -0.124958  ...                2                3\n",
              "2        -1.385353      0.337848  ...                2                3\n",
              "3        -1.506521      0.106445  ...                2                3\n",
              "4        -1.021849      1.263460  ...                2                1\n",
              "..             ...           ...  ...              ...              ...\n",
              "145       1.038005     -0.124958  ...                1                2\n",
              "146       0.553333     -1.281972  ...                0                0\n",
              "147       0.795669     -0.124958  ...                1                2\n",
              "148       0.432165      0.800654  ...                1                2\n",
              "149       0.068662     -0.124958  ...                0                0\n",
              "\n",
              "[150 rows x 6 columns]"
            ]
          },
          "metadata": {
            "tags": []
          },
          "execution_count": 11
        }
      ]
    },
    {
      "cell_type": "code",
      "metadata": {
        "id": "m_VOt28xJsL9",
        "colab_type": "code",
        "colab": {
          "base_uri": "https://localhost:8080/",
          "height": 573
        },
        "outputId": "32ff4bc2-6944-4d78-e96e-8d6d5cb70fd7"
      },
      "source": [
        "## Tampilkan Plot\n",
        "plt.figure(figsize=(8,4))\n",
        "sns.scatterplot(data_cluster['SepalWidthCm'], data_cluster['SepalLengthCm'], hue=data_cluster['cluster_kmeans3'], palette=sns.color_palette('hls',3))\n",
        "plt.title(' KMeans 3 cluster')\n",
        "\n",
        "plt.figure(figsize=(8,4))\n",
        "sns.scatterplot(data_cluster['SepalWidthCm'], data_cluster['SepalLengthCm'], hue=data_cluster['cluster_kmeans4'], palette=sns.color_palette('hls',4))\n",
        "plt.title(' KMeans 4 cluster')\n",
        "plt.show()"
      ],
      "execution_count": null,
      "outputs": [
        {
          "output_type": "display_data",
          "data": {
            "image/png": "[encoded data removed]",
            "text/plain": [
              "<Figure size 576x288 with 1 Axes>"
            ]
          },
          "metadata": {
            "tags": [],
            "needs_background": "light"
          }
        },
        {
          "output_type": "display_data",
          "data": {
            "image/png": "[encoded data removed]",
            "text/plain": [
              "<Figure size 576x288 with 1 Axes>"
            ]
          },
          "metadata": {
            "tags": [],
            "needs_background": "light"
          }
        }
      ]
    },
    {
      "cell_type": "markdown",
      "metadata": {
        "id": "mJOAU4f2KoD5",
        "colab_type": "text"
      },
      "source": [
        "# **Hierarchy**"
      ]
    },
    {
      "cell_type": "code",
      "metadata": {
        "id": "6JQx5uc5JxvQ",
        "colab_type": "code",
        "colab": {
          "base_uri": "https://localhost:8080/",
          "height": 399
        },
        "outputId": "47b52d9e-53f1-4af6-a4d7-4da4dded15cc"
      },
      "source": [
        "data"
      ],
      "execution_count": null,
      "outputs": [
        {
          "output_type": "execute_result",
          "data": {
            "text/html": [
              "<div>\n",
              "<style scoped>\n",
              "    .dataframe tbody tr th:only-of-type {\n",
              "        vertical-align: middle;\n",
              "    }\n",
              "\n",
              "    .dataframe tbody tr th {\n",
              "        vertical-align: top;\n",
              "    }\n",
              "\n",
              "    .dataframe thead th {\n",
              "        text-align: right;\n",
              "    }\n",
              "</style>\n",
              "<table border=\"1\" class=\"dataframe\">\n",
              "  <thead>\n",
              "    <tr style=\"text-align: right;\">\n",
              "      <th></th>\n",
              "      <th>SepalLengthCm</th>\n",
              "      <th>SepalWidthCm</th>\n",
              "      <th>PetalLengthCm</th>\n",
              "      <th>PetalWidthCm</th>\n",
              "    </tr>\n",
              "  </thead>\n",
              "  <tbody>\n",
              "    <tr>\n",
              "      <th>0</th>\n",
              "      <td>-0.900681</td>\n",
              "      <td>1.032057</td>\n",
              "      <td>-1.341272</td>\n",
              "      <td>-1.312977</td>\n",
              "    </tr>\n",
              "    <tr>\n",
              "      <th>1</th>\n",
              "      <td>-1.143017</td>\n",
              "      <td>-0.124958</td>\n",
              "      <td>-1.341272</td>\n",
              "      <td>-1.312977</td>\n",
              "    </tr>\n",
              "    <tr>\n",
              "      <th>2</th>\n",
              "      <td>-1.385353</td>\n",
              "      <td>0.337848</td>\n",
              "      <td>-1.398138</td>\n",
              "      <td>-1.312977</td>\n",
              "    </tr>\n",
              "    <tr>\n",
              "      <th>3</th>\n",
              "      <td>-1.506521</td>\n",
              "      <td>0.106445</td>\n",
              "      <td>-1.284407</td>\n",
              "      <td>-1.312977</td>\n",
              "    </tr>\n",
              "    <tr>\n",
              "      <th>4</th>\n",
              "      <td>-1.021849</td>\n",
              "      <td>1.263460</td>\n",
              "      <td>-1.341272</td>\n",
              "      <td>-1.312977</td>\n",
              "    </tr>\n",
              "    <tr>\n",
              "      <th>...</th>\n",
              "      <td>...</td>\n",
              "      <td>...</td>\n",
              "      <td>...</td>\n",
              "      <td>...</td>\n",
              "    </tr>\n",
              "    <tr>\n",
              "      <th>145</th>\n",
              "      <td>1.038005</td>\n",
              "      <td>-0.124958</td>\n",
              "      <td>0.819624</td>\n",
              "      <td>1.447956</td>\n",
              "    </tr>\n",
              "    <tr>\n",
              "      <th>146</th>\n",
              "      <td>0.553333</td>\n",
              "      <td>-1.281972</td>\n",
              "      <td>0.705893</td>\n",
              "      <td>0.922064</td>\n",
              "    </tr>\n",
              "    <tr>\n",
              "      <th>147</th>\n",
              "      <td>0.795669</td>\n",
              "      <td>-0.124958</td>\n",
              "      <td>0.819624</td>\n",
              "      <td>1.053537</td>\n",
              "    </tr>\n",
              "    <tr>\n",
              "      <th>148</th>\n",
              "      <td>0.432165</td>\n",
              "      <td>0.800654</td>\n",
              "      <td>0.933356</td>\n",
              "      <td>1.447956</td>\n",
              "    </tr>\n",
              "    <tr>\n",
              "      <th>149</th>\n",
              "      <td>0.068662</td>\n",
              "      <td>-0.124958</td>\n",
              "      <td>0.762759</td>\n",
              "      <td>0.790591</td>\n",
              "    </tr>\n",
              "  </tbody>\n",
              "</table>\n",
              "<p>150 rows × 4 columns</p>\n",
              "</div>"
            ],
            "text/plain": [
              "     SepalLengthCm  SepalWidthCm  PetalLengthCm  PetalWidthCm\n",
              "0        -0.900681      1.032057      -1.341272     -1.312977\n",
              "1        -1.143017     -0.124958      -1.341272     -1.312977\n",
              "2        -1.385353      0.337848      -1.398138     -1.312977\n",
              "3        -1.506521      0.106445      -1.284407     -1.312977\n",
              "4        -1.021849      1.263460      -1.341272     -1.312977\n",
              "..             ...           ...            ...           ...\n",
              "145       1.038005     -0.124958       0.819624      1.447956\n",
              "146       0.553333     -1.281972       0.705893      0.922064\n",
              "147       0.795669     -0.124958       0.819624      1.053537\n",
              "148       0.432165      0.800654       0.933356      1.447956\n",
              "149       0.068662     -0.124958       0.762759      0.790591\n",
              "\n",
              "[150 rows x 4 columns]"
            ]
          },
          "metadata": {
            "tags": []
          },
          "execution_count": 13
        }
      ]
    },
    {
      "cell_type": "code",
      "metadata": {
        "id": "fg7QwZC8J3VU",
        "colab_type": "code",
        "colab": {}
      },
      "source": [
        "from scipy.cluster.hierarchy import linkage\n",
        "from scipy.cluster.hierarchy import dendrogram\n",
        "from scipy.cluster.hierarchy import cut_tree"
      ],
      "execution_count": null,
      "outputs": []
    },
    {
      "cell_type": "code",
      "metadata": {
        "id": "1PY8iMRQJ5We",
        "colab_type": "code",
        "colab": {}
      },
      "source": [
        "## Single Linkage\n",
        "\n",
        "# In single linkage hierarchical clustering, \n",
        "# the distance between two clusters is defined as \n",
        "# the shortest distance between two points in each cluster. \n",
        "# For example, the distance between clusters “r” and “s” to\n",
        "# the left is equal to the length of the arrow between their two closest points."
      ],
      "execution_count": null,
      "outputs": []
    },
    {
      "cell_type": "code",
      "metadata": {
        "id": "IRc8iGhMJ6I1",
        "colab_type": "code",
        "colab": {
          "base_uri": "https://localhost:8080/",
          "height": 281
        },
        "outputId": "614d51de-4b17-46a8-ec3a-d5147c982ba8"
      },
      "source": [
        "# single linkage\n",
        "mergings_single = linkage(data, method=\"single\", metric='euclidean')\n",
        "dendrogram(mergings_single)\n",
        "plt.title(\"Single Linkage\")\n",
        "plt.show()"
      ],
      "execution_count": null,
      "outputs": [
        {
          "output_type": "display_data",
          "data": {
            "image/png": "[encoded data removed]",
            "text/plain": [
              "<Figure size 432x288 with 1 Axes>"
            ]
          },
          "metadata": {
            "tags": [],
            "needs_background": "light"
          }
        }
      ]
    },
    {
      "cell_type": "code",
      "metadata": {
        "id": "RMGwyZCkJ_DV",
        "colab_type": "code",
        "colab": {}
      },
      "source": [
        "\n",
        "## Complete Linkage\n",
        "\n",
        "# In complete linkage hierarchical clustering, \n",
        "# the distance between two clusters is defined as \n",
        "# the longest distance between two points in each cluster. \n",
        "# For example, the distance between clusters “r” and “s” to the \n",
        "# left is equal to the length of the arrow between their two furthest points."
      ],
      "execution_count": null,
      "outputs": []
    },
    {
      "cell_type": "code",
      "metadata": {
        "id": "ZzOzqz4oJ_ys",
        "colab_type": "code",
        "colab": {
          "base_uri": "https://localhost:8080/",
          "height": 281
        },
        "outputId": "87495318-9377-4743-dd4e-c68264f41d33"
      },
      "source": [
        "# complete linkage\n",
        "mergings_complete = linkage(data, method=\"complete\", metric='euclidean')\n",
        "dendrogram(mergings_complete)\n",
        "plt.title(\"Complete Linkage\")\n",
        "plt.show()"
      ],
      "execution_count": null,
      "outputs": [
        {
          "output_type": "display_data",
          "data": {
            "image/png": "[encoded data removed]",
            "text/plain": [
              "<Figure size 432x288 with 1 Axes>"
            ]
          },
          "metadata": {
            "tags": [],
            "needs_background": "light"
          }
        }
      ]
    },
    {
      "cell_type": "code",
      "metadata": {
        "id": "OlM59umIKDq7",
        "colab_type": "code",
        "colab": {
          "base_uri": "https://localhost:8080/",
          "height": 141
        },
        "outputId": "4dcbf633-9d0b-4ea9-db92-4fc02ca89739"
      },
      "source": [
        "# 3 clusters\n",
        "cluster_hierarchy = cut_tree(mergings_complete, n_clusters=3).reshape(-1, )\n",
        "cluster_hierarchy"
      ],
      "execution_count": null,
      "outputs": [
        {
          "output_type": "execute_result",
          "data": {
            "text/plain": [
              "array([0, 0, 0, 0, 0, 0, 0, 0, 0, 0, 0, 0, 0, 0, 0, 0, 0, 0, 0, 0, 0, 0,\n",
              "       0, 0, 0, 0, 0, 0, 0, 0, 0, 0, 0, 0, 0, 0, 0, 0, 0, 0, 0, 1, 0, 0,\n",
              "       0, 0, 0, 0, 0, 0, 2, 2, 2, 1, 2, 1, 2, 1, 2, 1, 1, 2, 1, 2, 2, 2,\n",
              "       2, 1, 1, 1, 2, 2, 2, 2, 2, 2, 2, 2, 2, 1, 1, 1, 1, 2, 2, 2, 2, 1,\n",
              "       2, 1, 1, 2, 1, 1, 1, 2, 2, 2, 1, 1, 2, 2, 2, 2, 2, 2, 1, 2, 2, 2,\n",
              "       2, 2, 2, 2, 2, 2, 2, 2, 2, 1, 2, 2, 2, 2, 2, 2, 2, 2, 2, 2, 2, 2,\n",
              "       2, 2, 2, 2, 2, 2, 2, 2, 2, 2, 2, 2, 2, 2, 2, 2, 2, 2])"
            ]
          },
          "metadata": {
            "tags": []
          },
          "execution_count": 19
        }
      ]
    },
    {
      "cell_type": "code",
      "metadata": {
        "id": "WfU93SnzKLpb",
        "colab_type": "code",
        "colab": {
          "base_uri": "https://localhost:8080/",
          "height": 399
        },
        "outputId": "9bfea944-cb82-4803-9088-f84938834405"
      },
      "source": [
        "# assign cluster labels\n",
        "data_cluster['cluster_hierarchy'] = cluster_hierarchy\n",
        "data_cluster"
      ],
      "execution_count": null,
      "outputs": [
        {
          "output_type": "execute_result",
          "data": {
            "text/html": [
              "<div>\n",
              "<style scoped>\n",
              "    .dataframe tbody tr th:only-of-type {\n",
              "        vertical-align: middle;\n",
              "    }\n",
              "\n",
              "    .dataframe tbody tr th {\n",
              "        vertical-align: top;\n",
              "    }\n",
              "\n",
              "    .dataframe thead th {\n",
              "        text-align: right;\n",
              "    }\n",
              "</style>\n",
              "<table border=\"1\" class=\"dataframe\">\n",
              "  <thead>\n",
              "    <tr style=\"text-align: right;\">\n",
              "      <th></th>\n",
              "      <th>SepalLengthCm</th>\n",
              "      <th>SepalWidthCm</th>\n",
              "      <th>PetalLengthCm</th>\n",
              "      <th>PetalWidthCm</th>\n",
              "      <th>cluster_kmeans3</th>\n",
              "      <th>cluster_kmeans4</th>\n",
              "      <th>cluster_hierarchy</th>\n",
              "    </tr>\n",
              "  </thead>\n",
              "  <tbody>\n",
              "    <tr>\n",
              "      <th>0</th>\n",
              "      <td>-0.900681</td>\n",
              "      <td>1.032057</td>\n",
              "      <td>-1.341272</td>\n",
              "      <td>-1.312977</td>\n",
              "      <td>2</td>\n",
              "      <td>1</td>\n",
              "      <td>0</td>\n",
              "    </tr>\n",
              "    <tr>\n",
              "      <th>1</th>\n",
              "      <td>-1.143017</td>\n",
              "      <td>-0.124958</td>\n",
              "      <td>-1.341272</td>\n",
              "      <td>-1.312977</td>\n",
              "      <td>2</td>\n",
              "      <td>3</td>\n",
              "      <td>0</td>\n",
              "    </tr>\n",
              "    <tr>\n",
              "      <th>2</th>\n",
              "      <td>-1.385353</td>\n",
              "      <td>0.337848</td>\n",
              "      <td>-1.398138</td>\n",
              "      <td>-1.312977</td>\n",
              "      <td>2</td>\n",
              "      <td>3</td>\n",
              "      <td>0</td>\n",
              "    </tr>\n",
              "    <tr>\n",
              "      <th>3</th>\n",
              "      <td>-1.506521</td>\n",
              "      <td>0.106445</td>\n",
              "      <td>-1.284407</td>\n",
              "      <td>-1.312977</td>\n",
              "      <td>2</td>\n",
              "      <td>3</td>\n",
              "      <td>0</td>\n",
              "    </tr>\n",
              "    <tr>\n",
              "      <th>4</th>\n",
              "      <td>-1.021849</td>\n",
              "      <td>1.263460</td>\n",
              "      <td>-1.341272</td>\n",
              "      <td>-1.312977</td>\n",
              "      <td>2</td>\n",
              "      <td>1</td>\n",
              "      <td>0</td>\n",
              "    </tr>\n",
              "    <tr>\n",
              "      <th>...</th>\n",
              "      <td>...</td>\n",
              "      <td>...</td>\n",
              "      <td>...</td>\n",
              "      <td>...</td>\n",
              "      <td>...</td>\n",
              "      <td>...</td>\n",
              "      <td>...</td>\n",
              "    </tr>\n",
              "    <tr>\n",
              "      <th>145</th>\n",
              "      <td>1.038005</td>\n",
              "      <td>-0.124958</td>\n",
              "      <td>0.819624</td>\n",
              "      <td>1.447956</td>\n",
              "      <td>1</td>\n",
              "      <td>2</td>\n",
              "      <td>2</td>\n",
              "    </tr>\n",
              "    <tr>\n",
              "      <th>146</th>\n",
              "      <td>0.553333</td>\n",
              "      <td>-1.281972</td>\n",
              "      <td>0.705893</td>\n",
              "      <td>0.922064</td>\n",
              "      <td>0</td>\n",
              "      <td>0</td>\n",
              "      <td>2</td>\n",
              "    </tr>\n",
              "    <tr>\n",
              "      <th>147</th>\n",
              "      <td>0.795669</td>\n",
              "      <td>-0.124958</td>\n",
              "      <td>0.819624</td>\n",
              "      <td>1.053537</td>\n",
              "      <td>1</td>\n",
              "      <td>2</td>\n",
              "      <td>2</td>\n",
              "    </tr>\n",
              "    <tr>\n",
              "      <th>148</th>\n",
              "      <td>0.432165</td>\n",
              "      <td>0.800654</td>\n",
              "      <td>0.933356</td>\n",
              "      <td>1.447956</td>\n",
              "      <td>1</td>\n",
              "      <td>2</td>\n",
              "      <td>2</td>\n",
              "    </tr>\n",
              "    <tr>\n",
              "      <th>149</th>\n",
              "      <td>0.068662</td>\n",
              "      <td>-0.124958</td>\n",
              "      <td>0.762759</td>\n",
              "      <td>0.790591</td>\n",
              "      <td>0</td>\n",
              "      <td>0</td>\n",
              "      <td>2</td>\n",
              "    </tr>\n",
              "  </tbody>\n",
              "</table>\n",
              "<p>150 rows × 7 columns</p>\n",
              "</div>"
            ],
            "text/plain": [
              "     SepalLengthCm  SepalWidthCm  ...  cluster_kmeans4  cluster_hierarchy\n",
              "0        -0.900681      1.032057  ...                1                  0\n",
              "1        -1.143017     -0.124958  ...                3                  0\n",
              "2        -1.385353      0.337848  ...                3                  0\n",
              "3        -1.506521      0.106445  ...                3                  0\n",
              "4        -1.021849      1.263460  ...                1                  0\n",
              "..             ...           ...  ...              ...                ...\n",
              "145       1.038005     -0.124958  ...                2                  2\n",
              "146       0.553333     -1.281972  ...                0                  2\n",
              "147       0.795669     -0.124958  ...                2                  2\n",
              "148       0.432165      0.800654  ...                2                  2\n",
              "149       0.068662     -0.124958  ...                0                  2\n",
              "\n",
              "[150 rows x 7 columns]"
            ]
          },
          "metadata": {
            "tags": []
          },
          "execution_count": 20
        }
      ]
    },
    {
      "cell_type": "code",
      "metadata": {
        "id": "P8VUs5AgKOkj",
        "colab_type": "code",
        "colab": {
          "base_uri": "https://localhost:8080/",
          "height": 313
        },
        "outputId": "daa39d14-d237-4bbf-9e29-52761a2ee93f"
      },
      "source": [
        "## Tampilkan Plot\n",
        "plt.figure(figsize=(8,4))\n",
        "sns.scatterplot(data_cluster['SepalWidthCm'], data_cluster['PetalWidthCm'], hue=data_cluster['cluster_hierarchy'], palette=sns.color_palette('hls',3))\n",
        "plt.title(' Hierarchical Clustering')"
      ],
      "execution_count": null,
      "outputs": [
        {
          "output_type": "execute_result",
          "data": {
            "text/plain": [
              "Text(0.5, 1.0, ' Hierarchical Clustering')"
            ]
          },
          "metadata": {
            "tags": []
          },
          "execution_count": 21
        },
        {
          "output_type": "display_data",
          "data": {
            "image/png": "[encoded data removed]",
            "text/plain": [
              "<Figure size 576x288 with 1 Axes>"
            ]
          },
          "metadata": {
            "tags": [],
            "needs_background": "light"
          }
        }
      ]
    },
    {
      "cell_type": "markdown",
      "metadata": {
        "id": "UQhmeQagKYr5",
        "colab_type": "text"
      },
      "source": [
        "# **DBSCAN**"
      ]
    },
    {
      "cell_type": "code",
      "metadata": {
        "id": "MukdvHwYKPQG",
        "colab_type": "code",
        "colab": {}
      },
      "source": [
        "from sklearn.cluster import DBSCAN"
      ],
      "execution_count": null,
      "outputs": []
    },
    {
      "cell_type": "code",
      "metadata": {
        "id": "t1kbh9U5LDi6",
        "colab_type": "code",
        "colab": {
          "base_uri": "https://localhost:8080/"
        },
        "outputId": "f92411cb-9845-4dc3-8728-3efaec2044a1"
      },
      "source": [
        "data"
      ],
      "execution_count": null,
      "outputs": [
        {
          "output_type": "execute_result",
          "data": {
            "text/html": [
              "<div>\n",
              "<style scoped>\n",
              "    .dataframe tbody tr th:only-of-type {\n",
              "        vertical-align: middle;\n",
              "    }\n",
              "\n",
              "    .dataframe tbody tr th {\n",
              "        vertical-align: top;\n",
              "    }\n",
              "\n",
              "    .dataframe thead th {\n",
              "        text-align: right;\n",
              "    }\n",
              "</style>\n",
              "<table border=\"1\" class=\"dataframe\">\n",
              "  <thead>\n",
              "    <tr style=\"text-align: right;\">\n",
              "      <th></th>\n",
              "      <th>SepalLengthCm</th>\n",
              "      <th>SepalWidthCm</th>\n",
              "      <th>PetalLengthCm</th>\n",
              "      <th>PetalWidthCm</th>\n",
              "    </tr>\n",
              "  </thead>\n",
              "  <tbody>\n",
              "    <tr>\n",
              "      <th>0</th>\n",
              "      <td>-0.900681</td>\n",
              "      <td>1.032057</td>\n",
              "      <td>-1.341272</td>\n",
              "      <td>-1.312977</td>\n",
              "    </tr>\n",
              "    <tr>\n",
              "      <th>1</th>\n",
              "      <td>-1.143017</td>\n",
              "      <td>-0.124958</td>\n",
              "      <td>-1.341272</td>\n",
              "      <td>-1.312977</td>\n",
              "    </tr>\n",
              "    <tr>\n",
              "      <th>2</th>\n",
              "      <td>-1.385353</td>\n",
              "      <td>0.337848</td>\n",
              "      <td>-1.398138</td>\n",
              "      <td>-1.312977</td>\n",
              "    </tr>\n",
              "    <tr>\n",
              "      <th>3</th>\n",
              "      <td>-1.506521</td>\n",
              "      <td>0.106445</td>\n",
              "      <td>-1.284407</td>\n",
              "      <td>-1.312977</td>\n",
              "    </tr>\n",
              "    <tr>\n",
              "      <th>4</th>\n",
              "      <td>-1.021849</td>\n",
              "      <td>1.263460</td>\n",
              "      <td>-1.341272</td>\n",
              "      <td>-1.312977</td>\n",
              "    </tr>\n",
              "    <tr>\n",
              "      <th>...</th>\n",
              "      <td>...</td>\n",
              "      <td>...</td>\n",
              "      <td>...</td>\n",
              "      <td>...</td>\n",
              "    </tr>\n",
              "    <tr>\n",
              "      <th>145</th>\n",
              "      <td>1.038005</td>\n",
              "      <td>-0.124958</td>\n",
              "      <td>0.819624</td>\n",
              "      <td>1.447956</td>\n",
              "    </tr>\n",
              "    <tr>\n",
              "      <th>146</th>\n",
              "      <td>0.553333</td>\n",
              "      <td>-1.281972</td>\n",
              "      <td>0.705893</td>\n",
              "      <td>0.922064</td>\n",
              "    </tr>\n",
              "    <tr>\n",
              "      <th>147</th>\n",
              "      <td>0.795669</td>\n",
              "      <td>-0.124958</td>\n",
              "      <td>0.819624</td>\n",
              "      <td>1.053537</td>\n",
              "    </tr>\n",
              "    <tr>\n",
              "      <th>148</th>\n",
              "      <td>0.432165</td>\n",
              "      <td>0.800654</td>\n",
              "      <td>0.933356</td>\n",
              "      <td>1.447956</td>\n",
              "    </tr>\n",
              "    <tr>\n",
              "      <th>149</th>\n",
              "      <td>0.068662</td>\n",
              "      <td>-0.124958</td>\n",
              "      <td>0.762759</td>\n",
              "      <td>0.790591</td>\n",
              "    </tr>\n",
              "  </tbody>\n",
              "</table>\n",
              "<p>150 rows × 4 columns</p>\n",
              "</div>"
            ],
            "text/plain": [
              "     SepalLengthCm  SepalWidthCm  PetalLengthCm  PetalWidthCm\n",
              "0        -0.900681      1.032057      -1.341272     -1.312977\n",
              "1        -1.143017     -0.124958      -1.341272     -1.312977\n",
              "2        -1.385353      0.337848      -1.398138     -1.312977\n",
              "3        -1.506521      0.106445      -1.284407     -1.312977\n",
              "4        -1.021849      1.263460      -1.341272     -1.312977\n",
              "..             ...           ...            ...           ...\n",
              "145       1.038005     -0.124958       0.819624      1.447956\n",
              "146       0.553333     -1.281972       0.705893      0.922064\n",
              "147       0.795669     -0.124958       0.819624      1.053537\n",
              "148       0.432165      0.800654       0.933356      1.447956\n",
              "149       0.068662     -0.124958       0.762759      0.790591\n",
              "\n",
              "[150 rows x 4 columns]"
            ]
          },
          "metadata": {
            "tags": []
          },
          "execution_count": 23
        }
      ]
    },
    {
      "cell_type": "code",
      "metadata": {
        "id": "6xXfQtEKLI5q",
        "colab_type": "code",
        "colab": {
          "base_uri": "https://localhost:8080/"
        },
        "outputId": "850e97d7-f02e-4c42-abb0-9f5f75cd4d57"
      },
      "source": [
        "# create an object\n",
        "db = DBSCAN(eps=0.7, min_samples=5, metric='euclidean')\n",
        "\n",
        "# fit the model\n",
        "db.fit(data)"
      ],
      "execution_count": null,
      "outputs": [
        {
          "output_type": "execute_result",
          "data": {
            "text/plain": [
              "DBSCAN(algorithm='auto', eps=0.7, leaf_size=30, metric='euclidean',\n",
              "       metric_params=None, min_samples=5, n_jobs=None, p=None)"
            ]
          },
          "metadata": {
            "tags": []
          },
          "execution_count": 24
        }
      ]
    },
    {
      "cell_type": "code",
      "metadata": {
        "id": "7r_9ryhgLJqm",
        "colab_type": "code",
        "colab": {
          "base_uri": "https://localhost:8080/"
        },
        "outputId": "06bcdf2d-cf10-4941-b4ac-bd5e17f55f87"
      },
      "source": [
        "# assign cluster labels\n",
        "data_cluster['cluster_dbscan'] = db.labels_\n",
        "data_cluster"
      ],
      "execution_count": null,
      "outputs": [
        {
          "output_type": "execute_result",
          "data": {
            "text/html": [
              "<div>\n",
              "<style scoped>\n",
              "    .dataframe tbody tr th:only-of-type {\n",
              "        vertical-align: middle;\n",
              "    }\n",
              "\n",
              "    .dataframe tbody tr th {\n",
              "        vertical-align: top;\n",
              "    }\n",
              "\n",
              "    .dataframe thead th {\n",
              "        text-align: right;\n",
              "    }\n",
              "</style>\n",
              "<table border=\"1\" class=\"dataframe\">\n",
              "  <thead>\n",
              "    <tr style=\"text-align: right;\">\n",
              "      <th></th>\n",
              "      <th>SepalLengthCm</th>\n",
              "      <th>SepalWidthCm</th>\n",
              "      <th>PetalLengthCm</th>\n",
              "      <th>PetalWidthCm</th>\n",
              "      <th>cluster_kmeans3</th>\n",
              "      <th>cluster_kmeans4</th>\n",
              "      <th>cluster_hierarchy</th>\n",
              "      <th>cluster_dbscan</th>\n",
              "    </tr>\n",
              "  </thead>\n",
              "  <tbody>\n",
              "    <tr>\n",
              "      <th>0</th>\n",
              "      <td>-0.900681</td>\n",
              "      <td>1.032057</td>\n",
              "      <td>-1.341272</td>\n",
              "      <td>-1.312977</td>\n",
              "      <td>2</td>\n",
              "      <td>1</td>\n",
              "      <td>0</td>\n",
              "      <td>0</td>\n",
              "    </tr>\n",
              "    <tr>\n",
              "      <th>1</th>\n",
              "      <td>-1.143017</td>\n",
              "      <td>-0.124958</td>\n",
              "      <td>-1.341272</td>\n",
              "      <td>-1.312977</td>\n",
              "      <td>2</td>\n",
              "      <td>3</td>\n",
              "      <td>0</td>\n",
              "      <td>0</td>\n",
              "    </tr>\n",
              "    <tr>\n",
              "      <th>2</th>\n",
              "      <td>-1.385353</td>\n",
              "      <td>0.337848</td>\n",
              "      <td>-1.398138</td>\n",
              "      <td>-1.312977</td>\n",
              "      <td>2</td>\n",
              "      <td>3</td>\n",
              "      <td>0</td>\n",
              "      <td>0</td>\n",
              "    </tr>\n",
              "    <tr>\n",
              "      <th>3</th>\n",
              "      <td>-1.506521</td>\n",
              "      <td>0.106445</td>\n",
              "      <td>-1.284407</td>\n",
              "      <td>-1.312977</td>\n",
              "      <td>2</td>\n",
              "      <td>3</td>\n",
              "      <td>0</td>\n",
              "      <td>0</td>\n",
              "    </tr>\n",
              "    <tr>\n",
              "      <th>4</th>\n",
              "      <td>-1.021849</td>\n",
              "      <td>1.263460</td>\n",
              "      <td>-1.341272</td>\n",
              "      <td>-1.312977</td>\n",
              "      <td>2</td>\n",
              "      <td>1</td>\n",
              "      <td>0</td>\n",
              "      <td>0</td>\n",
              "    </tr>\n",
              "    <tr>\n",
              "      <th>...</th>\n",
              "      <td>...</td>\n",
              "      <td>...</td>\n",
              "      <td>...</td>\n",
              "      <td>...</td>\n",
              "      <td>...</td>\n",
              "      <td>...</td>\n",
              "      <td>...</td>\n",
              "      <td>...</td>\n",
              "    </tr>\n",
              "    <tr>\n",
              "      <th>145</th>\n",
              "      <td>1.038005</td>\n",
              "      <td>-0.124958</td>\n",
              "      <td>0.819624</td>\n",
              "      <td>1.447956</td>\n",
              "      <td>1</td>\n",
              "      <td>2</td>\n",
              "      <td>2</td>\n",
              "      <td>1</td>\n",
              "    </tr>\n",
              "    <tr>\n",
              "      <th>146</th>\n",
              "      <td>0.553333</td>\n",
              "      <td>-1.281972</td>\n",
              "      <td>0.705893</td>\n",
              "      <td>0.922064</td>\n",
              "      <td>0</td>\n",
              "      <td>0</td>\n",
              "      <td>2</td>\n",
              "      <td>1</td>\n",
              "    </tr>\n",
              "    <tr>\n",
              "      <th>147</th>\n",
              "      <td>0.795669</td>\n",
              "      <td>-0.124958</td>\n",
              "      <td>0.819624</td>\n",
              "      <td>1.053537</td>\n",
              "      <td>1</td>\n",
              "      <td>2</td>\n",
              "      <td>2</td>\n",
              "      <td>1</td>\n",
              "    </tr>\n",
              "    <tr>\n",
              "      <th>148</th>\n",
              "      <td>0.432165</td>\n",
              "      <td>0.800654</td>\n",
              "      <td>0.933356</td>\n",
              "      <td>1.447956</td>\n",
              "      <td>1</td>\n",
              "      <td>2</td>\n",
              "      <td>2</td>\n",
              "      <td>1</td>\n",
              "    </tr>\n",
              "    <tr>\n",
              "      <th>149</th>\n",
              "      <td>0.068662</td>\n",
              "      <td>-0.124958</td>\n",
              "      <td>0.762759</td>\n",
              "      <td>0.790591</td>\n",
              "      <td>0</td>\n",
              "      <td>0</td>\n",
              "      <td>2</td>\n",
              "      <td>1</td>\n",
              "    </tr>\n",
              "  </tbody>\n",
              "</table>\n",
              "<p>150 rows × 8 columns</p>\n",
              "</div>"
            ],
            "text/plain": [
              "     SepalLengthCm  SepalWidthCm  ...  cluster_hierarchy  cluster_dbscan\n",
              "0        -0.900681      1.032057  ...                  0               0\n",
              "1        -1.143017     -0.124958  ...                  0               0\n",
              "2        -1.385353      0.337848  ...                  0               0\n",
              "3        -1.506521      0.106445  ...                  0               0\n",
              "4        -1.021849      1.263460  ...                  0               0\n",
              "..             ...           ...  ...                ...             ...\n",
              "145       1.038005     -0.124958  ...                  2               1\n",
              "146       0.553333     -1.281972  ...                  2               1\n",
              "147       0.795669     -0.124958  ...                  2               1\n",
              "148       0.432165      0.800654  ...                  2               1\n",
              "149       0.068662     -0.124958  ...                  2               1\n",
              "\n",
              "[150 rows x 8 columns]"
            ]
          },
          "metadata": {
            "tags": []
          },
          "execution_count": 25
        }
      ]
    },
    {
      "cell_type": "code",
      "metadata": {
        "id": "mYJwMqS6LL8W",
        "colab_type": "code",
        "colab": {
          "base_uri": "https://localhost:8080/"
        },
        "outputId": "22e0b1e7-8c44-4046-ee88-d17d191d3ff8"
      },
      "source": [
        "data_cluster.describe()"
      ],
      "execution_count": null,
      "outputs": [
        {
          "output_type": "execute_result",
          "data": {
            "text/html": [
              "<div>\n",
              "<style scoped>\n",
              "    .dataframe tbody tr th:only-of-type {\n",
              "        vertical-align: middle;\n",
              "    }\n",
              "\n",
              "    .dataframe tbody tr th {\n",
              "        vertical-align: top;\n",
              "    }\n",
              "\n",
              "    .dataframe thead th {\n",
              "        text-align: right;\n",
              "    }\n",
              "</style>\n",
              "<table border=\"1\" class=\"dataframe\">\n",
              "  <thead>\n",
              "    <tr style=\"text-align: right;\">\n",
              "      <th></th>\n",
              "      <th>SepalLengthCm</th>\n",
              "      <th>SepalWidthCm</th>\n",
              "      <th>PetalLengthCm</th>\n",
              "      <th>PetalWidthCm</th>\n",
              "      <th>cluster_kmeans3</th>\n",
              "      <th>cluster_kmeans4</th>\n",
              "      <th>cluster_hierarchy</th>\n",
              "      <th>cluster_dbscan</th>\n",
              "    </tr>\n",
              "  </thead>\n",
              "  <tbody>\n",
              "    <tr>\n",
              "      <th>count</th>\n",
              "      <td>1.500000e+02</td>\n",
              "      <td>1.500000e+02</td>\n",
              "      <td>1.500000e+02</td>\n",
              "      <td>1.500000e+02</td>\n",
              "      <td>150.000000</td>\n",
              "      <td>150.000000</td>\n",
              "      <td>150.000000</td>\n",
              "      <td>150.000000</td>\n",
              "    </tr>\n",
              "    <tr>\n",
              "      <th>mean</th>\n",
              "      <td>-2.775558e-16</td>\n",
              "      <td>-5.140333e-16</td>\n",
              "      <td>1.154632e-16</td>\n",
              "      <td>9.251859e-16</td>\n",
              "      <td>0.980000</td>\n",
              "      <td>1.320000</td>\n",
              "      <td>1.186667</td>\n",
              "      <td>0.573333</td>\n",
              "    </tr>\n",
              "    <tr>\n",
              "      <th>std</th>\n",
              "      <td>1.003350e+00</td>\n",
              "      <td>1.003350e+00</td>\n",
              "      <td>1.003350e+00</td>\n",
              "      <td>1.003350e+00</td>\n",
              "      <td>0.831187</td>\n",
              "      <td>1.137051</td>\n",
              "      <td>0.900311</td>\n",
              "      <td>0.594682</td>\n",
              "    </tr>\n",
              "    <tr>\n",
              "      <th>min</th>\n",
              "      <td>-1.870024e+00</td>\n",
              "      <td>-2.438987e+00</td>\n",
              "      <td>-1.568735e+00</td>\n",
              "      <td>-1.444450e+00</td>\n",
              "      <td>0.000000</td>\n",
              "      <td>0.000000</td>\n",
              "      <td>0.000000</td>\n",
              "      <td>-1.000000</td>\n",
              "    </tr>\n",
              "    <tr>\n",
              "      <th>25%</th>\n",
              "      <td>-9.006812e-01</td>\n",
              "      <td>-5.877635e-01</td>\n",
              "      <td>-1.227541e+00</td>\n",
              "      <td>-1.181504e+00</td>\n",
              "      <td>0.000000</td>\n",
              "      <td>0.000000</td>\n",
              "      <td>0.000000</td>\n",
              "      <td>0.000000</td>\n",
              "    </tr>\n",
              "    <tr>\n",
              "      <th>50%</th>\n",
              "      <td>-5.250608e-02</td>\n",
              "      <td>-1.249576e-01</td>\n",
              "      <td>3.362659e-01</td>\n",
              "      <td>1.332259e-01</td>\n",
              "      <td>1.000000</td>\n",
              "      <td>1.000000</td>\n",
              "      <td>2.000000</td>\n",
              "      <td>1.000000</td>\n",
              "    </tr>\n",
              "    <tr>\n",
              "      <th>75%</th>\n",
              "      <td>6.745011e-01</td>\n",
              "      <td>5.692513e-01</td>\n",
              "      <td>7.627586e-01</td>\n",
              "      <td>7.905908e-01</td>\n",
              "      <td>2.000000</td>\n",
              "      <td>2.000000</td>\n",
              "      <td>2.000000</td>\n",
              "      <td>1.000000</td>\n",
              "    </tr>\n",
              "    <tr>\n",
              "      <th>max</th>\n",
              "      <td>2.492019e+00</td>\n",
              "      <td>3.114684e+00</td>\n",
              "      <td>1.786341e+00</td>\n",
              "      <td>1.710902e+00</td>\n",
              "      <td>2.000000</td>\n",
              "      <td>3.000000</td>\n",
              "      <td>2.000000</td>\n",
              "      <td>1.000000</td>\n",
              "    </tr>\n",
              "  </tbody>\n",
              "</table>\n",
              "</div>"
            ],
            "text/plain": [
              "       SepalLengthCm  SepalWidthCm  ...  cluster_hierarchy  cluster_dbscan\n",
              "count   1.500000e+02  1.500000e+02  ...         150.000000      150.000000\n",
              "mean   -2.775558e-16 -5.140333e-16  ...           1.186667        0.573333\n",
              "std     1.003350e+00  1.003350e+00  ...           0.900311        0.594682\n",
              "min    -1.870024e+00 -2.438987e+00  ...           0.000000       -1.000000\n",
              "25%    -9.006812e-01 -5.877635e-01  ...           0.000000        0.000000\n",
              "50%    -5.250608e-02 -1.249576e-01  ...           2.000000        1.000000\n",
              "75%     6.745011e-01  5.692513e-01  ...           2.000000        1.000000\n",
              "max     2.492019e+00  3.114684e+00  ...           2.000000        1.000000\n",
              "\n",
              "[8 rows x 8 columns]"
            ]
          },
          "metadata": {
            "tags": []
          },
          "execution_count": 26
        }
      ]
    },
    {
      "cell_type": "code",
      "metadata": {
        "id": "-1pnPWi5LO00",
        "colab_type": "code",
        "colab": {
          "base_uri": "https://localhost:8080/"
        },
        "outputId": "7099a6f8-2f83-42cb-c8e6-86b88b600a98"
      },
      "source": [
        "## Tampilkan Plot\n",
        "plt.figure(figsize=(8,4))\n",
        "sns.scatterplot(data_cluster['SepalWidthCm'], data_cluster['SepalLengthCm'], hue=data_cluster['cluster_dbscan'], palette=sns.color_palette('hls',3))\n",
        "plt.title(' DBSCAN clustering')"
      ],
      "execution_count": null,
      "outputs": [
        {
          "output_type": "execute_result",
          "data": {
            "text/plain": [
              "Text(0.5, 1.0, ' DBSCAN clustering')"
            ]
          },
          "metadata": {
            "tags": []
          },
          "execution_count": 27
        },
        {
          "output_type": "display_data",
          "data": {
            "image/png": "[encoded data removed]",
            "text/plain": [
              "<Figure size 576x288 with 1 Axes>"
            ]
          },
          "metadata": {
            "tags": [],
            "needs_background": "light"
          }
        }
      ]
    },
    {
      "cell_type": "markdown",
      "metadata": {
        "id": "v9NAV4OMLUTS",
        "colab_type": "text"
      },
      "source": [
        "# **SOM**"
      ]
    },
    {
      "cell_type": "code",
      "metadata": {
        "id": "wSTk39j6fFzC",
        "colab_type": "code",
        "colab": {
          "base_uri": "https://localhost:8080/",
          "height": 35
        },
        "outputId": "8fa4134d-1277-4bf7-c8a9-4557eeb8ec5d"
      },
      "source": [
        "!pip install minisom"
      ],
      "execution_count": null,
      "outputs": [
        {
          "output_type": "stream",
          "text": [
            "Requirement already satisfied: minisom in /usr/local/lib/python3.6/dist-packages (2.2.6)\n"
          ],
          "name": "stdout"
        }
      ]
    },
    {
      "cell_type": "code",
      "metadata": {
        "id": "v_QVGi_BLS-n",
        "colab_type": "code",
        "colab": {
          "base_uri": "https://localhost:8080/",
          "height": 1000
        },
        "outputId": "c4297d25-b53c-4ea7-d66d-1a0f7a710fe6"
      },
      "source": [
        "import numpy as np\n",
        "from minisom import MiniSom\n",
        "data_som = np.float32(data)\n",
        "data_som"
      ],
      "execution_count": null,
      "outputs": [
        {
          "output_type": "execute_result",
          "data": {
            "text/plain": [
              "array([[-9.00681198e-01,  1.03205717e+00, -1.34127235e+00,\n",
              "        -1.31297672e+00],\n",
              "       [-1.14301693e+00, -1.24957599e-01, -1.34127235e+00,\n",
              "        -1.31297672e+00],\n",
              "       [-1.38535261e+00,  3.37848336e-01, -1.39813817e+00,\n",
              "        -1.31297672e+00],\n",
              "       [-1.50652051e+00,  1.06445365e-01, -1.28440666e+00,\n",
              "        -1.31297672e+00],\n",
              "       [-1.02184904e+00,  1.26346016e+00, -1.34127235e+00,\n",
              "        -1.31297672e+00],\n",
              "       [-5.37177563e-01,  1.95766914e+00, -1.17067528e+00,\n",
              "        -1.05003083e+00],\n",
              "       [-1.50652051e+00,  8.00654233e-01, -1.34127235e+00,\n",
              "        -1.18150377e+00],\n",
              "       [-1.02184904e+00,  8.00654233e-01, -1.28440666e+00,\n",
              "        -1.31297672e+00],\n",
              "       [-1.74885631e+00, -3.56360555e-01, -1.34127235e+00,\n",
              "        -1.31297672e+00],\n",
              "       [-1.14301693e+00,  1.06445365e-01, -1.28440666e+00,\n",
              "        -1.44444966e+00],\n",
              "       [-5.37177563e-01,  1.49486315e+00, -1.28440666e+00,\n",
              "        -1.31297672e+00],\n",
              "       [-1.26418483e+00,  8.00654233e-01, -1.22754097e+00,\n",
              "        -1.31297672e+00],\n",
              "       [-1.26418483e+00, -1.24957599e-01, -1.34127235e+00,\n",
              "        -1.44444966e+00],\n",
              "       [-1.87002409e+00, -1.24957599e-01, -1.51186955e+00,\n",
              "        -1.44444966e+00],\n",
              "       [-5.25060780e-02,  2.18907213e+00, -1.45500386e+00,\n",
              "        -1.31297672e+00],\n",
              "       [-1.73673943e-01,  3.11468387e+00, -1.28440666e+00,\n",
              "        -1.05003083e+00],\n",
              "       [-5.37177563e-01,  1.95766914e+00, -1.39813817e+00,\n",
              "        -1.05003083e+00],\n",
              "       [-9.00681198e-01,  1.03205717e+00, -1.34127235e+00,\n",
              "        -1.18150377e+00],\n",
              "       [-1.73673943e-01,  1.72626615e+00, -1.17067528e+00,\n",
              "        -1.18150377e+00],\n",
              "       [-9.00681198e-01,  1.72626615e+00, -1.28440666e+00,\n",
              "        -1.18150377e+00],\n",
              "       [-5.37177563e-01,  8.00654233e-01, -1.17067528e+00,\n",
              "        -1.31297672e+00],\n",
              "       [-9.00681198e-01,  1.49486315e+00, -1.28440666e+00,\n",
              "        -1.05003083e+00],\n",
              "       [-1.50652051e+00,  1.26346016e+00, -1.56873524e+00,\n",
              "        -1.31297672e+00],\n",
              "       [-9.00681198e-01,  5.69251299e-01, -1.17067528e+00,\n",
              "        -9.18557823e-01],\n",
              "       [-1.26418483e+00,  8.00654233e-01, -1.05694389e+00,\n",
              "        -1.31297672e+00],\n",
              "       [-1.02184904e+00, -1.24957599e-01, -1.22754097e+00,\n",
              "        -1.31297672e+00],\n",
              "       [-1.02184904e+00,  8.00654233e-01, -1.22754097e+00,\n",
              "        -1.05003083e+00],\n",
              "       [-7.79513299e-01,  1.03205717e+00, -1.28440666e+00,\n",
              "        -1.31297672e+00],\n",
              "       [-7.79513299e-01,  8.00654233e-01, -1.34127235e+00,\n",
              "        -1.31297672e+00],\n",
              "       [-1.38535261e+00,  3.37848336e-01, -1.22754097e+00,\n",
              "        -1.31297672e+00],\n",
              "       [-1.26418483e+00,  1.06445365e-01, -1.22754097e+00,\n",
              "        -1.31297672e+00],\n",
              "       [-5.37177563e-01,  8.00654233e-01, -1.28440666e+00,\n",
              "        -1.05003083e+00],\n",
              "       [-7.79513299e-01,  2.42047501e+00, -1.28440666e+00,\n",
              "        -1.44444966e+00],\n",
              "       [-4.16009694e-01,  2.65187788e+00, -1.34127235e+00,\n",
              "        -1.31297672e+00],\n",
              "       [-1.14301693e+00,  1.06445365e-01, -1.28440666e+00,\n",
              "        -1.44444966e+00],\n",
              "       [-1.02184904e+00,  3.37848336e-01, -1.45500386e+00,\n",
              "        -1.31297672e+00],\n",
              "       [-4.16009694e-01,  1.03205717e+00, -1.39813817e+00,\n",
              "        -1.31297672e+00],\n",
              "       [-1.14301693e+00,  1.06445365e-01, -1.28440666e+00,\n",
              "        -1.44444966e+00],\n",
              "       [-1.74885631e+00, -1.24957599e-01, -1.39813817e+00,\n",
              "        -1.31297672e+00],\n",
              "       [-9.00681198e-01,  8.00654233e-01, -1.28440666e+00,\n",
              "        -1.31297672e+00],\n",
              "       [-1.02184904e+00,  1.03205717e+00, -1.39813817e+00,\n",
              "        -1.18150377e+00],\n",
              "       [-1.62768841e+00, -1.74477839e+00, -1.39813817e+00,\n",
              "        -1.18150377e+00],\n",
              "       [-1.74885631e+00,  3.37848336e-01, -1.39813817e+00,\n",
              "        -1.31297672e+00],\n",
              "       [-1.02184904e+00,  1.03205717e+00, -1.22754097e+00,\n",
              "        -7.87084818e-01],\n",
              "       [-9.00681198e-01,  1.72626615e+00, -1.05694389e+00,\n",
              "        -1.05003083e+00],\n",
              "       [-1.26418483e+00, -1.24957599e-01, -1.34127235e+00,\n",
              "        -1.18150377e+00],\n",
              "       [-9.00681198e-01,  1.72626615e+00, -1.22754097e+00,\n",
              "        -1.31297672e+00],\n",
              "       [-1.50652051e+00,  3.37848336e-01, -1.34127235e+00,\n",
              "        -1.31297672e+00],\n",
              "       [-6.58345401e-01,  1.49486315e+00, -1.28440666e+00,\n",
              "        -1.31297672e+00],\n",
              "       [-1.02184904e+00,  5.69251299e-01, -1.34127235e+00,\n",
              "        -1.31297672e+00],\n",
              "       [ 1.40150833e+00,  3.37848336e-01,  5.35295844e-01,\n",
              "         2.64698923e-01],\n",
              "       [ 6.74501121e-01,  3.37848336e-01,  4.21564430e-01,\n",
              "         3.96171898e-01],\n",
              "       [ 1.28034055e+00,  1.06445365e-01,  6.49027228e-01,\n",
              "         3.96171898e-01],\n",
              "       [-4.16009694e-01, -1.74477839e+00,  1.37235895e-01,\n",
              "         1.33225948e-01],\n",
              "       [ 7.95669019e-01, -5.87763548e-01,  4.78430122e-01,\n",
              "         3.96171898e-01],\n",
              "       [-1.73673943e-01, -5.87763548e-01,  4.21564430e-01,\n",
              "         1.33225948e-01],\n",
              "       [ 5.53333282e-01,  5.69251299e-01,  5.35295844e-01,\n",
              "         5.27644873e-01],\n",
              "       [-1.14301693e+00, -1.51337540e+00, -2.60824025e-01,\n",
              "        -2.61192977e-01],\n",
              "       [ 9.16836858e-01, -3.56360555e-01,  4.78430122e-01,\n",
              "         1.33225948e-01],\n",
              "       [-7.79513299e-01, -8.19166481e-01,  8.03701952e-02,\n",
              "         2.64698923e-01],\n",
              "       [-1.02184904e+00, -2.43898726e+00, -1.47092625e-01,\n",
              "        -2.61192977e-01],\n",
              "       [ 6.86617941e-02, -1.24957599e-01,  2.50967294e-01,\n",
              "         3.96171898e-01],\n",
              "       [ 1.89829662e-01, -1.97618127e+00,  1.37235895e-01,\n",
              "        -2.61192977e-01],\n",
              "       [ 3.10997546e-01, -3.56360555e-01,  5.35295844e-01,\n",
              "         2.64698923e-01],\n",
              "       [-2.94841826e-01, -3.56360555e-01, -9.02269185e-02,\n",
              "         1.33225948e-01],\n",
              "       [ 1.03800476e+00,  1.06445365e-01,  3.64698708e-01,\n",
              "         2.64698923e-01],\n",
              "       [-2.94841826e-01, -1.24957599e-01,  4.21564430e-01,\n",
              "         3.96171898e-01],\n",
              "       [-5.25060780e-02, -8.19166481e-01,  1.94101602e-01,\n",
              "        -2.61192977e-01],\n",
              "       [ 4.32165414e-01, -1.97618127e+00,  4.21564430e-01,\n",
              "         3.96171898e-01],\n",
              "       [-2.94841826e-01, -1.28197241e+00,  8.03701952e-02,\n",
              "        -1.29720002e-01],\n",
              "       [ 6.86617941e-02,  3.37848336e-01,  5.92161536e-01,\n",
              "         7.90590823e-01],\n",
              "       [ 3.10997546e-01, -5.87763548e-01,  1.37235895e-01,\n",
              "         1.33225948e-01],\n",
              "       [ 5.53333282e-01, -1.28197241e+00,  6.49027228e-01,\n",
              "         3.96171898e-01],\n",
              "       [ 3.10997546e-01, -5.87763548e-01,  5.35295844e-01,\n",
              "         1.75297295e-03],\n",
              "       [ 6.74501121e-01, -3.56360555e-01,  3.07833016e-01,\n",
              "         1.33225948e-01],\n",
              "       [ 9.16836858e-01, -1.24957599e-01,  3.64698708e-01,\n",
              "         2.64698923e-01],\n",
              "       [ 1.15917265e+00, -5.87763548e-01,  5.92161536e-01,\n",
              "         2.64698923e-01],\n",
              "       [ 1.03800476e+00, -1.24957599e-01,  7.05892920e-01,\n",
              "         6.59117818e-01],\n",
              "       [ 1.89829662e-01, -3.56360555e-01,  4.21564430e-01,\n",
              "         3.96171898e-01],\n",
              "       [-1.73673943e-01, -1.05056942e+00, -1.47092625e-01,\n",
              "        -2.61192977e-01],\n",
              "       [-4.16009694e-01, -1.51337540e+00,  2.35044919e-02,\n",
              "        -1.29720002e-01],\n",
              "       [-4.16009694e-01, -1.51337540e+00, -3.33612114e-02,\n",
              "        -2.61192977e-01],\n",
              "       [-5.25060780e-02, -8.19166481e-01,  8.03701952e-02,\n",
              "         1.75297295e-03],\n",
              "       [ 1.89829662e-01, -8.19166481e-01,  7.62758672e-01,\n",
              "         5.27644873e-01],\n",
              "       [-5.37177563e-01, -1.24957599e-01,  4.21564430e-01,\n",
              "         3.96171898e-01],\n",
              "       [ 1.89829662e-01,  8.00654233e-01,  4.21564430e-01,\n",
              "         5.27644873e-01],\n",
              "       [ 1.03800476e+00,  1.06445365e-01,  5.35295844e-01,\n",
              "         3.96171898e-01],\n",
              "       [ 5.53333282e-01, -1.74477839e+00,  3.64698708e-01,\n",
              "         1.33225948e-01],\n",
              "       [-2.94841826e-01, -1.24957599e-01,  1.94101602e-01,\n",
              "         1.33225948e-01],\n",
              "       [-4.16009694e-01, -1.28197241e+00,  1.37235895e-01,\n",
              "         1.33225948e-01],\n",
              "       [-4.16009694e-01, -1.05056942e+00,  3.64698708e-01,\n",
              "         1.75297295e-03],\n",
              "       [ 3.10997546e-01, -1.24957599e-01,  4.78430122e-01,\n",
              "         2.64698923e-01],\n",
              "       [-5.25060780e-02, -1.05056942e+00,  1.37235895e-01,\n",
              "         1.75297295e-03],\n",
              "       [-1.02184904e+00, -1.74477839e+00, -2.60824025e-01,\n",
              "        -2.61192977e-01],\n",
              "       [-2.94841826e-01, -8.19166481e-01,  2.50967294e-01,\n",
              "         1.33225948e-01],\n",
              "       [-1.73673943e-01, -1.24957599e-01,  2.50967294e-01,\n",
              "         1.75297295e-03],\n",
              "       [-1.73673943e-01, -3.56360555e-01,  2.50967294e-01,\n",
              "         1.33225948e-01],\n",
              "       [ 4.32165414e-01, -3.56360555e-01,  3.07833016e-01,\n",
              "         1.33225948e-01],\n",
              "       [-9.00681198e-01, -1.28197241e+00, -4.31421131e-01,\n",
              "        -1.29720002e-01],\n",
              "       [-1.73673943e-01, -5.87763548e-01,  1.94101602e-01,\n",
              "         1.33225948e-01],\n",
              "       [ 5.53333282e-01,  5.69251299e-01,  1.27454996e+00,\n",
              "         1.71090162e+00],\n",
              "       [-5.25060780e-02, -8.19166481e-01,  7.62758672e-01,\n",
              "         9.22063768e-01],\n",
              "       [ 1.52267623e+00, -1.24957599e-01,  1.21768427e+00,\n",
              "         1.18500972e+00],\n",
              "       [ 5.53333282e-01, -3.56360555e-01,  1.04708719e+00,\n",
              "         7.90590823e-01],\n",
              "       [ 7.95669019e-01, -1.24957599e-01,  1.16081858e+00,\n",
              "         1.31648266e+00],\n",
              "       [ 2.12851548e+00, -1.24957599e-01,  1.61574423e+00,\n",
              "         1.18500972e+00],\n",
              "       [-1.14301693e+00, -1.28197241e+00,  4.21564430e-01,\n",
              "         6.59117818e-01],\n",
              "       [ 1.76501203e+00, -3.56360555e-01,  1.44514704e+00,\n",
              "         7.90590823e-01],\n",
              "       [ 1.03800476e+00, -1.28197241e+00,  1.16081858e+00,\n",
              "         7.90590823e-01],\n",
              "       [ 1.64384413e+00,  1.26346016e+00,  1.33141565e+00,\n",
              "         1.71090162e+00],\n",
              "       [ 7.95669019e-01,  3.37848336e-01,  7.62758672e-01,\n",
              "         1.05353677e+00],\n",
              "       [ 6.74501121e-01, -8.19166481e-01,  8.76490057e-01,\n",
              "         9.22063768e-01],\n",
              "       [ 1.15917265e+00, -1.24957599e-01,  9.90221441e-01,\n",
              "         1.18500972e+00],\n",
              "       [-1.73673943e-01, -1.28197241e+00,  7.05892920e-01,\n",
              "         1.05353677e+00],\n",
              "       [-5.25060780e-02, -5.87763548e-01,  7.62758672e-01,\n",
              "         1.57942855e+00],\n",
              "       [ 6.74501121e-01,  3.37848336e-01,  8.76490057e-01,\n",
              "         1.44795561e+00],\n",
              "       [ 7.95669019e-01, -1.24957599e-01,  9.90221441e-01,\n",
              "         7.90590823e-01],\n",
              "       [ 2.24968338e+00,  1.72626615e+00,  1.67260993e+00,\n",
              "         1.31648266e+00],\n",
              "       [ 2.24968338e+00, -1.05056942e+00,  1.78634131e+00,\n",
              "         1.44795561e+00],\n",
              "       [ 1.89829662e-01, -1.97618127e+00,  7.05892920e-01,\n",
              "         3.96171898e-01],\n",
              "       [ 1.28034055e+00,  3.37848336e-01,  1.10395288e+00,\n",
              "         1.44795561e+00],\n",
              "       [-2.94841826e-01, -5.87763548e-01,  6.49027228e-01,\n",
              "         1.05353677e+00],\n",
              "       [ 2.24968338e+00, -5.87763548e-01,  1.67260993e+00,\n",
              "         1.05353677e+00],\n",
              "       [ 5.53333282e-01, -8.19166481e-01,  6.49027228e-01,\n",
              "         7.90590823e-01],\n",
              "       [ 1.03800476e+00,  5.69251299e-01,  1.10395288e+00,\n",
              "         1.18500972e+00],\n",
              "       [ 1.64384413e+00,  3.37848336e-01,  1.27454996e+00,\n",
              "         7.90590823e-01],\n",
              "       [ 4.32165414e-01, -5.87763548e-01,  5.92161536e-01,\n",
              "         7.90590823e-01],\n",
              "       [ 3.10997546e-01, -1.24957599e-01,  6.49027228e-01,\n",
              "         7.90590823e-01],\n",
              "       [ 6.74501121e-01, -5.87763548e-01,  1.04708719e+00,\n",
              "         1.18500972e+00],\n",
              "       [ 1.64384413e+00, -1.24957599e-01,  1.16081858e+00,\n",
              "         5.27644873e-01],\n",
              "       [ 1.88617980e+00, -5.87763548e-01,  1.33141565e+00,\n",
              "         9.22063768e-01],\n",
              "       [ 2.49201918e+00,  1.72626615e+00,  1.50201285e+00,\n",
              "         1.05353677e+00],\n",
              "       [ 6.74501121e-01, -5.87763548e-01,  1.04708719e+00,\n",
              "         1.31648266e+00],\n",
              "       [ 5.53333282e-01, -5.87763548e-01,  7.62758672e-01,\n",
              "         3.96171898e-01],\n",
              "       [ 3.10997546e-01, -1.05056942e+00,  1.04708719e+00,\n",
              "         2.64698923e-01],\n",
              "       [ 2.24968338e+00, -1.24957599e-01,  1.33141565e+00,\n",
              "         1.44795561e+00],\n",
              "       [ 5.53333282e-01,  8.00654233e-01,  1.04708719e+00,\n",
              "         1.57942855e+00],\n",
              "       [ 6.74501121e-01,  1.06445365e-01,  9.90221441e-01,\n",
              "         7.90590823e-01],\n",
              "       [ 1.89829662e-01, -1.24957599e-01,  5.92161536e-01,\n",
              "         7.90590823e-01],\n",
              "       [ 1.28034055e+00,  1.06445365e-01,  9.33355749e-01,\n",
              "         1.18500972e+00],\n",
              "       [ 1.03800476e+00,  1.06445365e-01,  1.04708719e+00,\n",
              "         1.57942855e+00],\n",
              "       [ 1.28034055e+00,  1.06445365e-01,  7.62758672e-01,\n",
              "         1.44795561e+00],\n",
              "       [-5.25060780e-02, -8.19166481e-01,  7.62758672e-01,\n",
              "         9.22063768e-01],\n",
              "       [ 1.15917265e+00,  3.37848336e-01,  1.21768427e+00,\n",
              "         1.44795561e+00],\n",
              "       [ 1.03800476e+00,  5.69251299e-01,  1.10395288e+00,\n",
              "         1.71090162e+00],\n",
              "       [ 1.03800476e+00, -1.24957599e-01,  8.19624364e-01,\n",
              "         1.44795561e+00],\n",
              "       [ 5.53333282e-01, -1.28197241e+00,  7.05892920e-01,\n",
              "         9.22063768e-01],\n",
              "       [ 7.95669019e-01, -1.24957599e-01,  8.19624364e-01,\n",
              "         1.05353677e+00],\n",
              "       [ 4.32165414e-01,  8.00654233e-01,  9.33355749e-01,\n",
              "         1.44795561e+00],\n",
              "       [ 6.86617941e-02, -1.24957599e-01,  7.62758672e-01,\n",
              "         7.90590823e-01]], dtype=float32)"
            ]
          },
          "metadata": {
            "tags": []
          },
          "execution_count": 29
        }
      ]
    },
    {
      "cell_type": "code",
      "metadata": {
        "id": "XO0KMcsfc9Rt",
        "colab_type": "code",
        "colab": {
          "base_uri": "https://localhost:8080/",
          "height": 52
        },
        "outputId": "18f698cb-703f-4feb-f9b9-29647fce9eab"
      },
      "source": [
        "# Initialization and training\n",
        "som_shape = (1, 3)\n",
        "som = MiniSom(som_shape[0], som_shape[1], data.shape[1], sigma=.5, learning_rate=.5,\n",
        "              neighborhood_function='gaussian', random_seed=10)\n",
        "\n",
        "som.train_batch(data_som, 500, verbose=True)"
      ],
      "execution_count": null,
      "outputs": [
        {
          "output_type": "stream",
          "text": [
            "\r [   0 / 500 ]   0% - ? it/s\r [   0 / 500 ]   0% - ? it/s\r [   1 / 500 ]   0% - 0:00:00 left \r [   2 / 500 ]   0% - 0:00:00 left \r [   3 / 500 ]   1% - 0:00:00 left \r [   4 / 500 ]   1% - 0:00:00 left \r [   5 / 500 ]   1% - 0:00:00 left \r [   6 / 500 ]   1% - 0:00:00 left \r [   7 / 500 ]   1% - 0:00:00 left \r [   8 / 500 ]   2% - 0:00:00 left \r [   9 / 500 ]   2% - 0:00:00 left \r [  10 / 500 ]   2% - 0:00:00 left \r [  11 / 500 ]   2% - 0:00:00 left \r [  12 / 500 ]   2% - 0:00:00 left \r [  13 / 500 ]   3% - 0:00:00 left \r [  14 / 500 ]   3% - 0:00:00 left \r [  15 / 500 ]   3% - 0:00:00 left \r [  16 / 500 ]   3% - 0:00:00 left \r [  17 / 500 ]   3% - 0:00:00 left \r [  18 / 500 ]   4% - 0:00:00 left \r [  19 / 500 ]   4% - 0:00:00 left \r [  20 / 500 ]   4% - 0:00:00 left \r [  21 / 500 ]   4% - 0:00:00 left \r [  22 / 500 ]   4% - 0:00:00 left \r [  23 / 500 ]   5% - 0:00:00 left \r [  24 / 500 ]   5% - 0:00:00 left \r [  25 / 500 ]   5% - 0:00:00 left \r [  26 / 500 ]   5% - 0:00:00 left \r [  27 / 500 ]   5% - 0:00:00 left \r [  28 / 500 ]   6% - 0:00:00 left \r [  29 / 500 ]   6% - 0:00:00 left \r [  30 / 500 ]   6% - 0:00:00 left \r [  31 / 500 ]   6% - 0:00:00 left \r [  32 / 500 ]   6% - 0:00:00 left \r [  33 / 500 ]   7% - 0:00:00 left \r [  34 / 500 ]   7% - 0:00:00 left \r [  35 / 500 ]   7% - 0:00:00 left \r [  36 / 500 ]   7% - 0:00:00 left \r [  37 / 500 ]   7% - 0:00:00 left \r [  38 / 500 ]   8% - 0:00:00 left \r [  39 / 500 ]   8% - 0:00:00 left \r [  40 / 500 ]   8% - 0:00:00 left \r [  41 / 500 ]   8% - 0:00:00 left \r [  42 / 500 ]   8% - 0:00:00 left \r [  43 / 500 ]   9% - 0:00:00 left \r [  44 / 500 ]   9% - 0:00:00 left \r [  45 / 500 ]   9% - 0:00:00 left \r [  46 / 500 ]   9% - 0:00:00 left \r [  47 / 500 ]   9% - 0:00:00 left \r [  48 / 500 ]  10% - 0:00:00 left \r [  49 / 500 ]  10% - 0:00:00 left \r [  50 / 500 ]  10% - 0:00:00 left \r [  51 / 500 ]  10% - 0:00:00 left \r [  52 / 500 ]  10% - 0:00:00 left \r [  53 / 500 ]  11% - 0:00:00 left \r [  54 / 500 ]  11% - 0:00:00 left \r [  55 / 500 ]  11% - 0:00:00 left \r [  56 / 500 ]  11% - 0:00:00 left \r [  57 / 500 ]  11% - 0:00:00 left \r [  58 / 500 ]  12% - 0:00:00 left \r [  59 / 500 ]  12% - 0:00:00 left \r [  60 / 500 ]  12% - 0:00:00 left \r [  61 / 500 ]  12% - 0:00:00 left \r [  62 / 500 ]  12% - 0:00:00 left \r [  63 / 500 ]  13% - 0:00:00 left \r [  64 / 500 ]  13% - 0:00:00 left \r [  65 / 500 ]  13% - 0:00:00 left \r [  66 / 500 ]  13% - 0:00:00 left \r [  67 / 500 ]  13% - 0:00:00 left \r [  68 / 500 ]  14% - 0:00:00 left \r [  69 / 500 ]  14% - 0:00:00 left \r [  70 / 500 ]  14% - 0:00:00 left \r [  71 / 500 ]  14% - 0:00:00 left \r [  72 / 500 ]  14% - 0:00:00 left \r [  73 / 500 ]  15% - 0:00:00 left \r [  74 / 500 ]  15% - 0:00:00 left \r [  75 / 500 ]  15% - 0:00:00 left \r [  76 / 500 ]  15% - 0:00:00 left \r [  77 / 500 ]  15% - 0:00:00 left \r [  78 / 500 ]  16% - 0:00:00 left \r [  79 / 500 ]  16% - 0:00:00 left \r [  80 / 500 ]  16% - 0:00:00 left \r [  81 / 500 ]  16% - 0:00:00 left \r [  82 / 500 ]  16% - 0:00:00 left \r [  83 / 500 ]  17% - 0:00:00 left \r [  84 / 500 ]  17% - 0:00:00 left \r [  85 / 500 ]  17% - 0:00:00 left \r [  86 / 500 ]  17% - 0:00:00 left \r [  87 / 500 ]  17% - 0:00:00 left \r [  88 / 500 ]  18% - 0:00:00 left \r [  89 / 500 ]  18% - 0:00:00 left \r [  90 / 500 ]  18% - 0:00:00 left \r [  91 / 500 ]  18% - 0:00:00 left \r [  92 / 500 ]  18% - 0:00:00 left \r [  93 / 500 ]  19% - 0:00:00 left \r [  94 / 500 ]  19% - 0:00:00 left \r [  95 / 500 ]  19% - 0:00:00 left \r [  96 / 500 ]  19% - 0:00:00 left \r [  97 / 500 ]  19% - 0:00:00 left \r [  98 / 500 ]  20% - 0:00:00 left \r [  99 / 500 ]  20% - 0:00:00 left \r [ 100 / 500 ]  20% - 0:00:00 left \r [ 101 / 500 ]  20% - 0:00:00 left \r [ 102 / 500 ]  20% - 0:00:00 left \r [ 103 / 500 ]  21% - 0:00:00 left \r [ 104 / 500 ]  21% - 0:00:00 left \r [ 105 / 500 ]  21% - 0:00:00 left \r [ 106 / 500 ]  21% - 0:00:00 left \r [ 107 / 500 ]  21% - 0:00:00 left \r [ 108 / 500 ]  22% - 0:00:00 left \r [ 109 / 500 ]  22% - 0:00:00 left \r [ 110 / 500 ]  22% - 0:00:00 left \r [ 111 / 500 ]  22% - 0:00:00 left \r [ 112 / 500 ]  22% - 0:00:00 left \r [ 113 / 500 ]  23% - 0:00:00 left \r [ 114 / 500 ]  23% - 0:00:00 left \r [ 115 / 500 ]  23% - 0:00:00 left \r [ 116 / 500 ]  23% - 0:00:00 left \r [ 117 / 500 ]  23% - 0:00:00 left \r [ 118 / 500 ]  24% - 0:00:00 left \r [ 119 / 500 ]  24% - 0:00:00 left \r [ 120 / 500 ]  24% - 0:00:00 left \r [ 121 / 500 ]  24% - 0:00:00 left \r [ 122 / 500 ]  24% - 0:00:00 left \r [ 123 / 500 ]  25% - 0:00:00 left \r [ 124 / 500 ]  25% - 0:00:00 left \r [ 125 / 500 ]  25% - 0:00:00 left \r [ 126 / 500 ]  25% - 0:00:00 left \r [ 127 / 500 ]  25% - 0:00:00 left \r [ 128 / 500 ]  26% - 0:00:00 left \r [ 129 / 500 ]  26% - 0:00:00 left \r [ 130 / 500 ]  26% - 0:00:00 left \r [ 131 / 500 ]  26% - 0:00:00 left \r [ 132 / 500 ]  26% - 0:00:00 left \r [ 133 / 500 ]  27% - 0:00:00 left \r [ 134 / 500 ]  27% - 0:00:00 left \r [ 135 / 500 ]  27% - 0:00:00 left \r [ 136 / 500 ]  27% - 0:00:00 left \r [ 137 / 500 ]  27% - 0:00:00 left \r [ 138 / 500 ]  28% - 0:00:00 left \r [ 139 / 500 ]  28% - 0:00:00 left \r [ 140 / 500 ]  28% - 0:00:00 left \r [ 141 / 500 ]  28% - 0:00:00 left \r [ 142 / 500 ]  28% - 0:00:00 left \r [ 143 / 500 ]  29% - 0:00:00 left \r [ 144 / 500 ]  29% - 0:00:00 left \r [ 145 / 500 ]  29% - 0:00:00 left \r [ 146 / 500 ]  29% - 0:00:00 left \r [ 147 / 500 ]  29% - 0:00:00 left \r [ 148 / 500 ]  30% - 0:00:00 left \r [ 149 / 500 ]  30% - 0:00:00 left \r [ 150 / 500 ]  30% - 0:00:00 left \r [ 151 / 500 ]  30% - 0:00:00 left \r [ 152 / 500 ]  30% - 0:00:00 left \r [ 153 / 500 ]  31% - 0:00:00 left \r [ 154 / 500 ]  31% - 0:00:00 left \r [ 155 / 500 ]  31% - 0:00:00 left \r [ 156 / 500 ]  31% - 0:00:00 left \r [ 157 / 500 ]  31% - 0:00:00 left \r [ 158 / 500 ]  32% - 0:00:00 left \r [ 159 / 500 ]  32% - 0:00:00 left \r [ 160 / 500 ]  32% - 0:00:00 left \r [ 161 / 500 ]  32% - 0:00:00 left \r [ 162 / 500 ]  32% - 0:00:00 left \r [ 163 / 500 ]  33% - 0:00:00 left \r [ 164 / 500 ]  33% - 0:00:00 left \r [ 165 / 500 ]  33% - 0:00:00 left \r [ 166 / 500 ]  33% - 0:00:00 left \r [ 167 / 500 ]  33% - 0:00:00 left \r [ 168 / 500 ]  34% - 0:00:00 left \r [ 169 / 500 ]  34% - 0:00:00 left \r [ 170 / 500 ]  34% - 0:00:00 left \r [ 171 / 500 ]  34% - 0:00:00 left \r [ 172 / 500 ]  34% - 0:00:00 left \r [ 173 / 500 ]  35% - 0:00:00 left \r [ 174 / 500 ]  35% - 0:00:00 left \r [ 175 / 500 ]  35% - 0:00:00 left \r [ 176 / 500 ]  35% - 0:00:00 left \r [ 177 / 500 ]  35% - 0:00:00 left \r [ 178 / 500 ]  36% - 0:00:00 left \r [ 179 / 500 ]  36% - 0:00:00 left \r [ 180 / 500 ]  36% - 0:00:00 left \r [ 181 / 500 ]  36% - 0:00:00 left \r [ 182 / 500 ]  36% - 0:00:00 left \r [ 183 / 500 ]  37% - 0:00:00 left \r [ 184 / 500 ]  37% - 0:00:00 left \r [ 185 / 500 ]  37% - 0:00:00 left \r [ 186 / 500 ]  37% - 0:00:00 left \r [ 187 / 500 ]  37% - 0:00:00 left \r [ 188 / 500 ]  38% - 0:00:00 left \r [ 189 / 500 ]  38% - 0:00:00 left \r [ 190 / 500 ]  38% - 0:00:00 left \r [ 191 / 500 ]  38% - 0:00:00 left \r [ 192 / 500 ]  38% - 0:00:00 left \r [ 193 / 500 ]  39% - 0:00:00 left \r [ 194 / 500 ]  39% - 0:00:00 left \r [ 195 / 500 ]  39% - 0:00:00 left \r [ 196 / 500 ]  39% - 0:00:00 left \r [ 197 / 500 ]  39% - 0:00:00 left \r [ 198 / 500 ]  40% - 0:00:00 left \r [ 199 / 500 ]  40% - 0:00:00 left \r [ 200 / 500 ]  40% - 0:00:00 left \r [ 201 / 500 ]  40% - 0:00:00 left \r [ 202 / 500 ]  40% - 0:00:00 left \r [ 203 / 500 ]  41% - 0:00:00 left \r [ 204 / 500 ]  41% - 0:00:00 left \r [ 205 / 500 ]  41% - 0:00:00 left \r [ 206 / 500 ]  41% - 0:00:00 left \r [ 207 / 500 ]  41% - 0:00:00 left \r [ 208 / 500 ]  42% - 0:00:00 left \r [ 209 / 500 ]  42% - 0:00:00 left \r [ 210 / 500 ]  42% - 0:00:00 left \r [ 211 / 500 ]  42% - 0:00:00 left \r [ 212 / 500 ]  42% - 0:00:00 left \r [ 213 / 500 ]  43% - 0:00:00 left \r [ 214 / 500 ]  43% - 0:00:00 left \r [ 215 / 500 ]  43% - 0:00:00 left \r [ 216 / 500 ]  43% - 0:00:00 left \r [ 217 / 500 ]  43% - 0:00:00 left \r [ 218 / 500 ]  44% - 0:00:00 left \r [ 219 / 500 ]  44% - 0:00:00 left \r [ 220 / 500 ]  44% - 0:00:00 left \r [ 221 / 500 ]  44% - 0:00:00 left \r [ 222 / 500 ]  44% - 0:00:00 left \r [ 223 / 500 ]  45% - 0:00:00 left \r [ 224 / 500 ]  45% - 0:00:00 left \r [ 225 / 500 ]  45% - 0:00:00 left \r [ 226 / 500 ]  45% - 0:00:00 left \r [ 227 / 500 ]  45% - 0:00:00 left \r [ 228 / 500 ]  46% - 0:00:00 left \r [ 229 / 500 ]  46% - 0:00:00 left \r [ 230 / 500 ]  46% - 0:00:00 left \r [ 231 / 500 ]  46% - 0:00:00 left \r [ 232 / 500 ]  46% - 0:00:00 left \r [ 233 / 500 ]  47% - 0:00:00 left \r [ 234 / 500 ]  47% - 0:00:00 left \r [ 235 / 500 ]  47% - 0:00:00 left \r [ 236 / 500 ]  47% - 0:00:00 left \r [ 237 / 500 ]  47% - 0:00:00 left \r [ 238 / 500 ]  48% - 0:00:00 left \r [ 239 / 500 ]  48% - 0:00:00 left \r [ 240 / 500 ]  48% - 0:00:00 left \r [ 241 / 500 ]  48% - 0:00:00 left \r [ 242 / 500 ]  48% - 0:00:00 left \r [ 243 / 500 ]  49% - 0:00:00 left \r [ 244 / 500 ]  49% - 0:00:00 left \r [ 245 / 500 ]  49% - 0:00:00 left \r [ 246 / 500 ]  49% - 0:00:00 left \r [ 247 / 500 ]  49% - 0:00:00 left \r [ 248 / 500 ]  50% - 0:00:00 left \r [ 249 / 500 ]  50% - 0:00:00 left \r [ 250 / 500 ]  50% - 0:00:00 left \r [ 251 / 500 ]  50% - 0:00:00 left \r [ 252 / 500 ]  50% - 0:00:00 left \r [ 253 / 500 ]  51% - 0:00:00 left \r [ 254 / 500 ]  51% - 0:00:00 left \r [ 255 / 500 ]  51% - 0:00:00 left \r [ 256 / 500 ]  51% - 0:00:00 left \r [ 257 / 500 ]  51% - 0:00:00 left \r [ 258 / 500 ]  52% - 0:00:00 left \r [ 259 / 500 ]  52% - 0:00:00 left \r [ 260 / 500 ]  52% - 0:00:00 left \r [ 261 / 500 ]  52% - 0:00:00 left \r [ 262 / 500 ]  52% - 0:00:00 left \r [ 263 / 500 ]  53% - 0:00:00 left \r [ 264 / 500 ]  53% - 0:00:00 left \r [ 265 / 500 ]  53% - 0:00:00 left \r [ 266 / 500 ]  53% - 0:00:00 left \r [ 267 / 500 ]  53% - 0:00:00 left \r [ 268 / 500 ]  54% - 0:00:00 left \r [ 269 / 500 ]  54% - 0:00:00 left \r [ 270 / 500 ]  54% - 0:00:00 left \r [ 271 / 500 ]  54% - 0:00:00 left \r [ 272 / 500 ]  54% - 0:00:00 left \r [ 273 / 500 ]  55% - 0:00:00 left \r [ 274 / 500 ]  55% - 0:00:00 left \r [ 275 / 500 ]  55% - 0:00:00 left \r [ 276 / 500 ]  55% - 0:00:00 left \r [ 277 / 500 ]  55% - 0:00:00 left \r [ 278 / 500 ]  56% - 0:00:00 left \r [ 279 / 500 ]  56% - 0:00:00 left \r [ 280 / 500 ]  56% - 0:00:00 left \r [ 281 / 500 ]  56% - 0:00:00 left \r [ 282 / 500 ]  56% - 0:00:00 left \r [ 283 / 500 ]  57% - 0:00:00 left \r [ 284 / 500 ]  57% - 0:00:00 left \r [ 285 / 500 ]  57% - 0:00:00 left \r [ 286 / 500 ]  57% - 0:00:00 left \r [ 287 / 500 ]  57% - 0:00:00 left \r [ 288 / 500 ]  58% - 0:00:00 left \r [ 289 / 500 ]  58% - 0:00:00 left \r [ 290 / 500 ]  58% - 0:00:00 left \r [ 291 / 500 ]  58% - 0:00:00 left \r [ 292 / 500 ]  58% - 0:00:00 left \r [ 293 / 500 ]  59% - 0:00:00 left \r [ 294 / 500 ]  59% - 0:00:00 left \r [ 295 / 500 ]  59% - 0:00:00 left \r [ 296 / 500 ]  59% - 0:00:00 left \r [ 297 / 500 ]  59% - 0:00:00 left \r [ 298 / 500 ]  60% - 0:00:00 left \r [ 299 / 500 ]  60% - 0:00:00 left \r [ 300 / 500 ]  60% - 0:00:00 left \r [ 301 / 500 ]  60% - 0:00:00 left \r [ 302 / 500 ]  60% - 0:00:00 left \r [ 303 / 500 ]  61% - 0:00:00 left \r [ 304 / 500 ]  61% - 0:00:00 left \r [ 305 / 500 ]  61% - 0:00:00 left \r [ 306 / 500 ]  61% - 0:00:00 left \r [ 307 / 500 ]  61% - 0:00:00 left \r [ 308 / 500 ]  62% - 0:00:00 left \r [ 309 / 500 ]  62% - 0:00:00 left \r [ 310 / 500 ]  62% - 0:00:00 left \r [ 311 / 500 ]  62% - 0:00:00 left \r [ 312 / 500 ]  62% - 0:00:00 left \r [ 313 / 500 ]  63% - 0:00:00 left \r [ 314 / 500 ]  63% - 0:00:00 left \r [ 315 / 500 ]  63% - 0:00:00 left \r [ 316 / 500 ]  63% - 0:00:00 left \r [ 317 / 500 ]  63% - 0:00:00 left \r [ 318 / 500 ]  64% - 0:00:00 left \r [ 319 / 500 ]  64% - 0:00:00 left \r [ 320 / 500 ]  64% - 0:00:00 left \r [ 321 / 500 ]  64% - 0:00:00 left \r [ 322 / 500 ]  64% - 0:00:00 left \r [ 323 / 500 ]  65% - 0:00:00 left \r [ 324 / 500 ]  65% - 0:00:00 left \r [ 325 / 500 ]  65% - 0:00:00 left \r [ 326 / 500 ]  65% - 0:00:00 left \r [ 327 / 500 ]  65% - 0:00:00 left \r [ 328 / 500 ]  66% - 0:00:00 left \r [ 329 / 500 ]  66% - 0:00:00 left \r [ 330 / 500 ]  66% - 0:00:00 left \r [ 331 / 500 ]  66% - 0:00:00 left \r [ 332 / 500 ]  66% - 0:00:00 left \r [ 333 / 500 ]  67% - 0:00:00 left \r [ 334 / 500 ]  67% - 0:00:00 left \r [ 335 / 500 ]  67% - 0:00:00 left \r [ 336 / 500 ]  67% - 0:00:00 left \r [ 337 / 500 ]  67% - 0:00:00 left \r [ 338 / 500 ]  68% - 0:00:00 left \r [ 339 / 500 ]  68% - 0:00:00 left \r [ 340 / 500 ]  68% - 0:00:00 left \r [ 341 / 500 ]  68% - 0:00:00 left \r [ 342 / 500 ]  68% - 0:00:00 left \r [ 343 / 500 ]  69% - 0:00:00 left \r [ 344 / 500 ]  69% - 0:00:00 left \r [ 345 / 500 ]  69% - 0:00:00 left \r [ 346 / 500 ]  69% - 0:00:00 left \r [ 347 / 500 ]  69% - 0:00:00 left \r [ 348 / 500 ]  70% - 0:00:00 left \r [ 349 / 500 ]  70% - 0:00:00 left \r [ 350 / 500 ]  70% - 0:00:00 left \r [ 351 / 500 ]  70% - 0:00:00 left \r [ 352 / 500 ]  70% - 0:00:00 left \r [ 353 / 500 ]  71% - 0:00:00 left \r [ 354 / 500 ]  71% - 0:00:00 left \r [ 355 / 500 ]  71% - 0:00:00 left \r [ 356 / 500 ]  71% - 0:00:00 left \r [ 357 / 500 ]  71% - 0:00:00 left \r [ 358 / 500 ]  72% - 0:00:00 left \r [ 359 / 500 ]  72% - 0:00:00 left \r [ 360 / 500 ]  72% - 0:00:00 left \r [ 361 / 500 ]  72% - 0:00:00 left \r [ 362 / 500 ]  72% - 0:00:00 left \r [ 363 / 500 ]  73% - 0:00:00 left \r [ 364 / 500 ]  73% - 0:00:00 left \r [ 365 / 500 ]  73% - 0:00:00 left \r [ 366 / 500 ]  73% - 0:00:00 left \r [ 367 / 500 ]  73% - 0:00:00 left \r [ 368 / 500 ]  74% - 0:00:00 left \r [ 369 / 500 ]  74% - 0:00:00 left \r [ 370 / 500 ]  74% - 0:00:00 left \r [ 371 / 500 ]  74% - 0:00:00 left \r [ 372 / 500 ]  74% - 0:00:00 left \r [ 373 / 500 ]  75% - 0:00:00 left \r [ 374 / 500 ]  75% - 0:00:00 left \r [ 375 / 500 ]  75% - 0:00:00 left \r [ 376 / 500 ]  75% - 0:00:00 left \r [ 377 / 500 ]  75% - 0:00:00 left \r [ 378 / 500 ]  76% - 0:00:00 left \r [ 379 / 500 ]  76% - 0:00:00 left \r [ 380 / 500 ]  76% - 0:00:00 left \r [ 381 / 500 ]  76% - 0:00:00 left \r [ 382 / 500 ]  76% - 0:00:00 left \r [ 383 / 500 ]  77% - 0:00:00 left \r [ 384 / 500 ]  77% - 0:00:00 left \r [ 385 / 500 ]  77% - 0:00:00 left \r [ 386 / 500 ]  77% - 0:00:00 left \r [ 387 / 500 ]  77% - 0:00:00 left \r [ 388 / 500 ]  78% - 0:00:00 left \r [ 389 / 500 ]  78% - 0:00:00 left \r [ 390 / 500 ]  78% - 0:00:00 left \r [ 391 / 500 ]  78% - 0:00:00 left \r [ 392 / 500 ]  78% - 0:00:00 left \r [ 393 / 500 ]  79% - 0:00:00 left \r [ 394 / 500 ]  79% - 0:00:00 left \r [ 395 / 500 ]  79% - 0:00:00 left \r [ 396 / 500 ]  79% - 0:00:00 left \r [ 397 / 500 ]  79% - 0:00:00 left \r [ 398 / 500 ]  80% - 0:00:00 left \r [ 399 / 500 ]  80% - 0:00:00 left \r [ 400 / 500 ]  80% - 0:00:00 left \r [ 401 / 500 ]  80% - 0:00:00 left \r [ 402 / 500 ]  80% - 0:00:00 left \r [ 403 / 500 ]  81% - 0:00:00 left \r [ 404 / 500 ]  81% - 0:00:00 left \r [ 405 / 500 ]  81% - 0:00:00 left \r [ 406 / 500 ]  81% - 0:00:00 left \r [ 407 / 500 ]  81% - 0:00:00 left \r [ 408 / 500 ]  82% - 0:00:00 left \r [ 409 / 500 ]  82% - 0:00:00 left \r [ 410 / 500 ]  82% - 0:00:00 left \r [ 411 / 500 ]  82% - 0:00:00 left \r [ 412 / 500 ]  82% - 0:00:00 left \r [ 413 / 500 ]  83% - 0:00:00 left \r [ 414 / 500 ]  83% - 0:00:00 left \r [ 415 / 500 ]  83% - 0:00:00 left \r [ 416 / 500 ]  83% - 0:00:00 left \r [ 417 / 500 ]  83% - 0:00:00 left \r [ 418 / 500 ]  84% - 0:00:00 left \r [ 419 / 500 ]  84% - 0:00:00 left \r [ 420 / 500 ]  84% - 0:00:00 left \r [ 421 / 500 ]  84% - 0:00:00 left \r [ 422 / 500 ]  84% - 0:00:00 left \r [ 423 / 500 ]  85% - 0:00:00 left \r [ 424 / 500 ]  85% - 0:00:00 left \r [ 425 / 500 ]  85% - 0:00:00 left \r [ 426 / 500 ]  85% - 0:00:00 left \r [ 427 / 500 ]  85% - 0:00:00 left \r [ 428 / 500 ]  86% - 0:00:00 left \r [ 429 / 500 ]  86% - 0:00:00 left \r [ 430 / 500 ]  86% - 0:00:00 left \r [ 431 / 500 ]  86% - 0:00:00 left \r [ 432 / 500 ]  86% - 0:00:00 left \r [ 433 / 500 ]  87% - 0:00:00 left \r [ 434 / 500 ]  87% - 0:00:00 left \r [ 435 / 500 ]  87% - 0:00:00 left \r [ 436 / 500 ]  87% - 0:00:00 left \r [ 437 / 500 ]  87% - 0:00:00 left \r [ 438 / 500 ]  88% - 0:00:00 left \r [ 439 / 500 ]  88% - 0:00:00 left \r [ 440 / 500 ]  88% - 0:00:00 left \r [ 441 / 500 ]  88% - 0:00:00 left \r [ 442 / 500 ]  88% - 0:00:00 left \r [ 443 / 500 ]  89% - 0:00:00 left \r [ 444 / 500 ]  89% - 0:00:00 left \r [ 445 / 500 ]  89% - 0:00:00 left \r [ 446 / 500 ]  89% - 0:00:00 left \r [ 447 / 500 ]  89% - 0:00:00 left \r [ 448 / 500 ]  90% - 0:00:00 left \r [ 449 / 500 ]  90% - 0:00:00 left \r [ 450 / 500 ]  90% - 0:00:00 left \r [ 451 / 500 ]  90% - 0:00:00 left \r [ 452 / 500 ]  90% - 0:00:00 left \r [ 453 / 500 ]  91% - 0:00:00 left \r [ 454 / 500 ]  91% - 0:00:00 left \r [ 455 / 500 ]  91% - 0:00:00 left \r [ 456 / 500 ]  91% - 0:00:00 left \r [ 457 / 500 ]  91% - 0:00:00 left \r [ 458 / 500 ]  92% - 0:00:00 left \r [ 459 / 500 ]  92% - 0:00:00 left \r [ 460 / 500 ]  92% - 0:00:00 left \r [ 461 / 500 ]  92% - 0:00:00 left \r [ 462 / 500 ]  92% - 0:00:00 left \r [ 463 / 500 ]  93% - 0:00:00 left \r [ 464 / 500 ]  93% - 0:00:00 left \r [ 465 / 500 ]  93% - 0:00:00 left \r [ 466 / 500 ]  93% - 0:00:00 left \r [ 467 / 500 ]  93% - 0:00:00 left \r [ 468 / 500 ]  94% - 0:00:00 left \r [ 469 / 500 ]  94% - 0:00:00 left \r [ 470 / 500 ]  94% - 0:00:00 left \r [ 471 / 500 ]  94% - 0:00:00 left \r [ 472 / 500 ]  94% - 0:00:00 left \r [ 473 / 500 ]  95% - 0:00:00 left \r [ 474 / 500 ]  95% - 0:00:00 left \r [ 475 / 500 ]  95% - 0:00:00 left \r [ 476 / 500 ]  95% - 0:00:00 left \r [ 477 / 500 ]  95% - 0:00:00 left \r [ 478 / 500 ]  96% - 0:00:00 left \r [ 479 / 500 ]  96% - 0:00:00 left \r [ 480 / 500 ]  96% - 0:00:00 left \r [ 481 / 500 ]  96% - 0:00:00 left \r [ 482 / 500 ]  96% - 0:00:00 left \r [ 483 / 500 ]  97% - 0:00:00 left \r [ 484 / 500 ]  97% - 0:00:00 left \r [ 485 / 500 ]  97% - 0:00:00 left \r [ 486 / 500 ]  97% - 0:00:00 left \r [ 487 / 500 ]  97% - 0:00:00 left \r [ 488 / 500 ]  98% - 0:00:00 left \r [ 489 / 500 ]  98% - 0:00:00 left \r [ 490 / 500 ]  98% - 0:00:00 left \r [ 491 / 500 ]  98% - 0:00:00 left \r [ 492 / 500 ]  98% - 0:00:00 left \r [ 493 / 500 ]  99% - 0:00:00 left \r [ 494 / 500 ]  99% - 0:00:00 left \r [ 495 / 500 ]  99% - 0:00:00 left \r [ 496 / 500 ]  99% - 0:00:00 left \r [ 497 / 500 ]  99% - 0:00:00 left \r [ 498 / 500 ] 100% - 0:00:00 left \r [ 499 / 500 ] 100% - 0:00:00 left \r [ 500 / 500 ] 100% - 0:00:00 left \n",
            " quantization error: 0.9081144023765226\n"
          ],
          "name": "stdout"
        }
      ]
    },
    {
      "cell_type": "code",
      "metadata": {
        "id": "89TLIq2pd_i-",
        "colab_type": "code",
        "colab": {}
      },
      "source": [
        "# each neuron represents a cluster\n",
        "winner_coordinates = np.array([som.winner(x) for x in data_som]).T\n",
        "# with np.ravel_multi_index we convert the bidimensional\n",
        "# coordinates to a monodimensional index\n",
        "cluster_index = np.ravel_multi_index(winner_coordinates, som_shape)"
      ],
      "execution_count": null,
      "outputs": []
    },
    {
      "cell_type": "code",
      "metadata": {
        "id": "TZZ4WwHBfuo6",
        "colab_type": "code",
        "colab": {
          "base_uri": "https://localhost:8080/",
          "height": 295
        },
        "outputId": "0a9d9681-d1c8-479c-8cc1-df53ad601e34"
      },
      "source": [
        "import matplotlib.pyplot as plt\n",
        "%matplotlib inline\n",
        "\n",
        "# plotting the clusters using the first 2 dimentions of the data\n",
        "for c in np.unique(cluster_index):\n",
        "    plt.scatter(data_som[cluster_index == c, 0],\n",
        "                data_som[cluster_index == c, 1], label='cluster='+str(c), alpha=.7)\n",
        "\n",
        "# plotting centroids\n",
        "for centroid in som.get_weights():\n",
        "    plt.scatter(centroid[:, 0], centroid[:, 1], marker='x', \n",
        "                s=80, linewidths=35, color='k', label='centroid')\n",
        "plt.xlabel('SepalLengthCm');\n",
        "plt.ylabel('SepalWidthCm');\n",
        "plt.title('SOM Clustering');\n",
        "plt.legend();"
      ],
      "execution_count": null,
      "outputs": [
        {
          "output_type": "display_data",
          "data": {
            "image/png": "[encoded data removed]",
            "text/plain": [
              "<Figure size 432x288 with 1 Axes>"
            ]
          },
          "metadata": {
            "tags": [],
            "needs_background": "light"
          }
        }
      ]
    }
  ]
}